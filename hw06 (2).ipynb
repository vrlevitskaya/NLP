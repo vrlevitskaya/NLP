{
  "cells": [
    {
      "cell_type": "markdown",
      "metadata": {
        "id": "FvFoVJD2rJui"
      },
      "source": [
        "# Домашнее задание 6: классификация текстов"
      ]
    },
    {
      "cell_type": "markdown",
      "metadata": {
        "id": "inxziJ2orJun"
      },
      "source": [
        "В этом домашнем задании вам предстоит построить классификатор текстов!\n",
        "\n",
        "Данные мы будем использовать из Kaggle соревнования: https://www.kaggle.com/competitions/nlp-getting-started/data Оттуда надо скачать файл train.csv. На обучающую и тестовую выборки его поделим кодом ниже, менять его не надо!"
      ]
    },
    {
      "cell_type": "markdown",
      "metadata": {
        "id": "VGaSEc5hrJup"
      },
      "source": [
        "Мы будем работать с датасетом постов из твиттера. Нам предстоит решать задачу бинарной классификации - определять содержатся ли в твитте информация о настоящей катастрофе/инциденте или нет."
      ]
    },
    {
      "cell_type": "code",
      "execution_count": null,
      "metadata": {
        "id": "95haxZ87rJuq"
      },
      "outputs": [],
      "source": [
        "import pandas as pd\n",
        "import numpy as np"
      ]
    },
    {
      "cell_type": "code",
      "execution_count": null,
      "metadata": {
        "id": "jqeftEK4rJus"
      },
      "outputs": [],
      "source": [
        "data = pd.read_csv('train.csv')"
      ]
    },
    {
      "cell_type": "code",
      "execution_count": null,
      "metadata": {
        "colab": {
          "base_uri": "https://localhost:8080/",
          "height": 206
        },
        "id": "jdylAIL5rJut",
        "outputId": "0d63b11d-f081-4607-b40f-074a1d8bacc7"
      },
      "outputs": [
        {
          "output_type": "execute_result",
          "data": {
            "text/plain": [
              "   id keyword location                                               text  \\\n",
              "0   1     NaN      NaN  Our Deeds are the Reason of this #earthquake M...   \n",
              "1   4     NaN      NaN             Forest fire near La Ronge Sask. Canada   \n",
              "2   5     NaN      NaN  All residents asked to 'shelter in place' are ...   \n",
              "3   6     NaN      NaN  13,000 people receive #wildfires evacuation or...   \n",
              "4   7     NaN      NaN  Just got sent this photo from Ruby #Alaska as ...   \n",
              "\n",
              "   target  \n",
              "0       1  \n",
              "1       1  \n",
              "2       1  \n",
              "3       1  \n",
              "4       1  "
            ],
            "text/html": [
              "\n",
              "  <div id=\"df-177c7e14-c860-427c-8354-bcb4123eb5b9\" class=\"colab-df-container\">\n",
              "    <div>\n",
              "<style scoped>\n",
              "    .dataframe tbody tr th:only-of-type {\n",
              "        vertical-align: middle;\n",
              "    }\n",
              "\n",
              "    .dataframe tbody tr th {\n",
              "        vertical-align: top;\n",
              "    }\n",
              "\n",
              "    .dataframe thead th {\n",
              "        text-align: right;\n",
              "    }\n",
              "</style>\n",
              "<table border=\"1\" class=\"dataframe\">\n",
              "  <thead>\n",
              "    <tr style=\"text-align: right;\">\n",
              "      <th></th>\n",
              "      <th>id</th>\n",
              "      <th>keyword</th>\n",
              "      <th>location</th>\n",
              "      <th>text</th>\n",
              "      <th>target</th>\n",
              "    </tr>\n",
              "  </thead>\n",
              "  <tbody>\n",
              "    <tr>\n",
              "      <th>0</th>\n",
              "      <td>1</td>\n",
              "      <td>NaN</td>\n",
              "      <td>NaN</td>\n",
              "      <td>Our Deeds are the Reason of this #earthquake M...</td>\n",
              "      <td>1</td>\n",
              "    </tr>\n",
              "    <tr>\n",
              "      <th>1</th>\n",
              "      <td>4</td>\n",
              "      <td>NaN</td>\n",
              "      <td>NaN</td>\n",
              "      <td>Forest fire near La Ronge Sask. Canada</td>\n",
              "      <td>1</td>\n",
              "    </tr>\n",
              "    <tr>\n",
              "      <th>2</th>\n",
              "      <td>5</td>\n",
              "      <td>NaN</td>\n",
              "      <td>NaN</td>\n",
              "      <td>All residents asked to 'shelter in place' are ...</td>\n",
              "      <td>1</td>\n",
              "    </tr>\n",
              "    <tr>\n",
              "      <th>3</th>\n",
              "      <td>6</td>\n",
              "      <td>NaN</td>\n",
              "      <td>NaN</td>\n",
              "      <td>13,000 people receive #wildfires evacuation or...</td>\n",
              "      <td>1</td>\n",
              "    </tr>\n",
              "    <tr>\n",
              "      <th>4</th>\n",
              "      <td>7</td>\n",
              "      <td>NaN</td>\n",
              "      <td>NaN</td>\n",
              "      <td>Just got sent this photo from Ruby #Alaska as ...</td>\n",
              "      <td>1</td>\n",
              "    </tr>\n",
              "  </tbody>\n",
              "</table>\n",
              "</div>\n",
              "    <div class=\"colab-df-buttons\">\n",
              "\n",
              "  <div class=\"colab-df-container\">\n",
              "    <button class=\"colab-df-convert\" onclick=\"convertToInteractive('df-177c7e14-c860-427c-8354-bcb4123eb5b9')\"\n",
              "            title=\"Convert this dataframe to an interactive table.\"\n",
              "            style=\"display:none;\">\n",
              "\n",
              "  <svg xmlns=\"http://www.w3.org/2000/svg\" height=\"24px\" viewBox=\"0 -960 960 960\">\n",
              "    <path d=\"M120-120v-720h720v720H120Zm60-500h600v-160H180v160Zm220 220h160v-160H400v160Zm0 220h160v-160H400v160ZM180-400h160v-160H180v160Zm440 0h160v-160H620v160ZM180-180h160v-160H180v160Zm440 0h160v-160H620v160Z\"/>\n",
              "  </svg>\n",
              "    </button>\n",
              "\n",
              "  <style>\n",
              "    .colab-df-container {\n",
              "      display:flex;\n",
              "      gap: 12px;\n",
              "    }\n",
              "\n",
              "    .colab-df-convert {\n",
              "      background-color: #E8F0FE;\n",
              "      border: none;\n",
              "      border-radius: 50%;\n",
              "      cursor: pointer;\n",
              "      display: none;\n",
              "      fill: #1967D2;\n",
              "      height: 32px;\n",
              "      padding: 0 0 0 0;\n",
              "      width: 32px;\n",
              "    }\n",
              "\n",
              "    .colab-df-convert:hover {\n",
              "      background-color: #E2EBFA;\n",
              "      box-shadow: 0px 1px 2px rgba(60, 64, 67, 0.3), 0px 1px 3px 1px rgba(60, 64, 67, 0.15);\n",
              "      fill: #174EA6;\n",
              "    }\n",
              "\n",
              "    .colab-df-buttons div {\n",
              "      margin-bottom: 4px;\n",
              "    }\n",
              "\n",
              "    [theme=dark] .colab-df-convert {\n",
              "      background-color: #3B4455;\n",
              "      fill: #D2E3FC;\n",
              "    }\n",
              "\n",
              "    [theme=dark] .colab-df-convert:hover {\n",
              "      background-color: #434B5C;\n",
              "      box-shadow: 0px 1px 3px 1px rgba(0, 0, 0, 0.15);\n",
              "      filter: drop-shadow(0px 1px 2px rgba(0, 0, 0, 0.3));\n",
              "      fill: #FFFFFF;\n",
              "    }\n",
              "  </style>\n",
              "\n",
              "    <script>\n",
              "      const buttonEl =\n",
              "        document.querySelector('#df-177c7e14-c860-427c-8354-bcb4123eb5b9 button.colab-df-convert');\n",
              "      buttonEl.style.display =\n",
              "        google.colab.kernel.accessAllowed ? 'block' : 'none';\n",
              "\n",
              "      async function convertToInteractive(key) {\n",
              "        const element = document.querySelector('#df-177c7e14-c860-427c-8354-bcb4123eb5b9');\n",
              "        const dataTable =\n",
              "          await google.colab.kernel.invokeFunction('convertToInteractive',\n",
              "                                                    [key], {});\n",
              "        if (!dataTable) return;\n",
              "\n",
              "        const docLinkHtml = 'Like what you see? Visit the ' +\n",
              "          '<a target=\"_blank\" href=https://colab.research.google.com/notebooks/data_table.ipynb>data table notebook</a>'\n",
              "          + ' to learn more about interactive tables.';\n",
              "        element.innerHTML = '';\n",
              "        dataTable['output_type'] = 'display_data';\n",
              "        await google.colab.output.renderOutput(dataTable, element);\n",
              "        const docLink = document.createElement('div');\n",
              "        docLink.innerHTML = docLinkHtml;\n",
              "        element.appendChild(docLink);\n",
              "      }\n",
              "    </script>\n",
              "  </div>\n",
              "\n",
              "\n",
              "<div id=\"df-dfd83af0-70f8-4aa7-93b2-09b8e26d381d\">\n",
              "  <button class=\"colab-df-quickchart\" onclick=\"quickchart('df-dfd83af0-70f8-4aa7-93b2-09b8e26d381d')\"\n",
              "            title=\"Suggest charts\"\n",
              "            style=\"display:none;\">\n",
              "\n",
              "<svg xmlns=\"http://www.w3.org/2000/svg\" height=\"24px\"viewBox=\"0 0 24 24\"\n",
              "     width=\"24px\">\n",
              "    <g>\n",
              "        <path d=\"M19 3H5c-1.1 0-2 .9-2 2v14c0 1.1.9 2 2 2h14c1.1 0 2-.9 2-2V5c0-1.1-.9-2-2-2zM9 17H7v-7h2v7zm4 0h-2V7h2v10zm4 0h-2v-4h2v4z\"/>\n",
              "    </g>\n",
              "</svg>\n",
              "  </button>\n",
              "\n",
              "<style>\n",
              "  .colab-df-quickchart {\n",
              "      --bg-color: #E8F0FE;\n",
              "      --fill-color: #1967D2;\n",
              "      --hover-bg-color: #E2EBFA;\n",
              "      --hover-fill-color: #174EA6;\n",
              "      --disabled-fill-color: #AAA;\n",
              "      --disabled-bg-color: #DDD;\n",
              "  }\n",
              "\n",
              "  [theme=dark] .colab-df-quickchart {\n",
              "      --bg-color: #3B4455;\n",
              "      --fill-color: #D2E3FC;\n",
              "      --hover-bg-color: #434B5C;\n",
              "      --hover-fill-color: #FFFFFF;\n",
              "      --disabled-bg-color: #3B4455;\n",
              "      --disabled-fill-color: #666;\n",
              "  }\n",
              "\n",
              "  .colab-df-quickchart {\n",
              "    background-color: var(--bg-color);\n",
              "    border: none;\n",
              "    border-radius: 50%;\n",
              "    cursor: pointer;\n",
              "    display: none;\n",
              "    fill: var(--fill-color);\n",
              "    height: 32px;\n",
              "    padding: 0;\n",
              "    width: 32px;\n",
              "  }\n",
              "\n",
              "  .colab-df-quickchart:hover {\n",
              "    background-color: var(--hover-bg-color);\n",
              "    box-shadow: 0 1px 2px rgba(60, 64, 67, 0.3), 0 1px 3px 1px rgba(60, 64, 67, 0.15);\n",
              "    fill: var(--button-hover-fill-color);\n",
              "  }\n",
              "\n",
              "  .colab-df-quickchart-complete:disabled,\n",
              "  .colab-df-quickchart-complete:disabled:hover {\n",
              "    background-color: var(--disabled-bg-color);\n",
              "    fill: var(--disabled-fill-color);\n",
              "    box-shadow: none;\n",
              "  }\n",
              "\n",
              "  .colab-df-spinner {\n",
              "    border: 2px solid var(--fill-color);\n",
              "    border-color: transparent;\n",
              "    border-bottom-color: var(--fill-color);\n",
              "    animation:\n",
              "      spin 1s steps(1) infinite;\n",
              "  }\n",
              "\n",
              "  @keyframes spin {\n",
              "    0% {\n",
              "      border-color: transparent;\n",
              "      border-bottom-color: var(--fill-color);\n",
              "      border-left-color: var(--fill-color);\n",
              "    }\n",
              "    20% {\n",
              "      border-color: transparent;\n",
              "      border-left-color: var(--fill-color);\n",
              "      border-top-color: var(--fill-color);\n",
              "    }\n",
              "    30% {\n",
              "      border-color: transparent;\n",
              "      border-left-color: var(--fill-color);\n",
              "      border-top-color: var(--fill-color);\n",
              "      border-right-color: var(--fill-color);\n",
              "    }\n",
              "    40% {\n",
              "      border-color: transparent;\n",
              "      border-right-color: var(--fill-color);\n",
              "      border-top-color: var(--fill-color);\n",
              "    }\n",
              "    60% {\n",
              "      border-color: transparent;\n",
              "      border-right-color: var(--fill-color);\n",
              "    }\n",
              "    80% {\n",
              "      border-color: transparent;\n",
              "      border-right-color: var(--fill-color);\n",
              "      border-bottom-color: var(--fill-color);\n",
              "    }\n",
              "    90% {\n",
              "      border-color: transparent;\n",
              "      border-bottom-color: var(--fill-color);\n",
              "    }\n",
              "  }\n",
              "</style>\n",
              "\n",
              "  <script>\n",
              "    async function quickchart(key) {\n",
              "      const quickchartButtonEl =\n",
              "        document.querySelector('#' + key + ' button');\n",
              "      quickchartButtonEl.disabled = true;  // To prevent multiple clicks.\n",
              "      quickchartButtonEl.classList.add('colab-df-spinner');\n",
              "      try {\n",
              "        const charts = await google.colab.kernel.invokeFunction(\n",
              "            'suggestCharts', [key], {});\n",
              "      } catch (error) {\n",
              "        console.error('Error during call to suggestCharts:', error);\n",
              "      }\n",
              "      quickchartButtonEl.classList.remove('colab-df-spinner');\n",
              "      quickchartButtonEl.classList.add('colab-df-quickchart-complete');\n",
              "    }\n",
              "    (() => {\n",
              "      let quickchartButtonEl =\n",
              "        document.querySelector('#df-dfd83af0-70f8-4aa7-93b2-09b8e26d381d button');\n",
              "      quickchartButtonEl.style.display =\n",
              "        google.colab.kernel.accessAllowed ? 'block' : 'none';\n",
              "    })();\n",
              "  </script>\n",
              "</div>\n",
              "    </div>\n",
              "  </div>\n"
            ]
          },
          "metadata": {},
          "execution_count": 89
        }
      ],
      "source": [
        "data.head()"
      ]
    },
    {
      "cell_type": "code",
      "execution_count": null,
      "metadata": {
        "id": "-WXlCJTnrJuv"
      },
      "outputs": [],
      "source": [
        "from sklearn.model_selection import train_test_split\n",
        "\n",
        "train, test = train_test_split(data, test_size=0.3, random_state=42)"
      ]
    },
    {
      "cell_type": "markdown",
      "metadata": {
        "id": "XL6a0mszrJuw"
      },
      "source": [
        "## Задание 1 (0.5 балла)\n",
        "\n",
        "Выведете на экран информацию о пропусках в данных. Если пропуски присутствуют заполните их пустой строкой."
      ]
    },
    {
      "cell_type": "code",
      "execution_count": null,
      "metadata": {
        "colab": {
          "base_uri": "https://localhost:8080/"
        },
        "id": "4z4fbHdhvDrl",
        "outputId": "e361fac8-b259-4fdc-d36e-95bd7ada5686"
      },
      "outputs": [
        {
          "output_type": "execute_result",
          "data": {
            "text/plain": [
              "id          False\n",
              "keyword      True\n",
              "location     True\n",
              "text        False\n",
              "target      False\n",
              "dtype: bool"
            ]
          },
          "metadata": {},
          "execution_count": 91
        }
      ],
      "source": [
        "train.isnull().any()"
      ]
    },
    {
      "cell_type": "code",
      "execution_count": null,
      "metadata": {
        "id": "e4H1wj2hviUq"
      },
      "outputs": [],
      "source": [
        "train.fillna(' ', inplace=True)"
      ]
    },
    {
      "cell_type": "code",
      "source": [
        "test.fillna(' ', inplace=True)"
      ],
      "metadata": {
        "id": "_jAtcoA6SmiF"
      },
      "execution_count": null,
      "outputs": []
    },
    {
      "cell_type": "markdown",
      "metadata": {
        "id": "36yxQlO4rJux"
      },
      "source": [
        "## Задание 2 (1 балл)\n",
        "Давайте немного посмотрим на наши данные. Визуализируйте (где явно просят) или выведете информацию о следующем:\n",
        "\n",
        "1. Какое распределение классов в обучающей выборке?\n",
        "2. Посмотрите на колонку \"keyword\" - возьмите 10 наиболее встречающихся значений, постройте ступенчатую диаграмму распределения классов в зависимости от значения keyword, сделайте выводы."
      ]
    },
    {
      "cell_type": "markdown",
      "metadata": {
        "id": "67RFuf7SxYR3"
      },
      "source": [
        "1. В -1 классе 3024 объекта, в +1 2305 - почти равномерное"
      ]
    },
    {
      "cell_type": "code",
      "execution_count": null,
      "metadata": {
        "colab": {
          "base_uri": "https://localhost:8080/",
          "height": 143
        },
        "id": "FJFhSggJw2re",
        "outputId": "21800eac-de54-4b6d-fbba-b9fa9a557795"
      },
      "outputs": [
        {
          "output_type": "execute_result",
          "data": {
            "text/plain": [
              "          id  keyword  location  text\n",
              "target                               \n",
              "0       3024     3024      3024  3024\n",
              "1       2305     2305      2305  2305"
            ],
            "text/html": [
              "\n",
              "  <div id=\"df-933ebbac-5c29-4827-812c-4b487d1cb843\" class=\"colab-df-container\">\n",
              "    <div>\n",
              "<style scoped>\n",
              "    .dataframe tbody tr th:only-of-type {\n",
              "        vertical-align: middle;\n",
              "    }\n",
              "\n",
              "    .dataframe tbody tr th {\n",
              "        vertical-align: top;\n",
              "    }\n",
              "\n",
              "    .dataframe thead th {\n",
              "        text-align: right;\n",
              "    }\n",
              "</style>\n",
              "<table border=\"1\" class=\"dataframe\">\n",
              "  <thead>\n",
              "    <tr style=\"text-align: right;\">\n",
              "      <th></th>\n",
              "      <th>id</th>\n",
              "      <th>keyword</th>\n",
              "      <th>location</th>\n",
              "      <th>text</th>\n",
              "    </tr>\n",
              "    <tr>\n",
              "      <th>target</th>\n",
              "      <th></th>\n",
              "      <th></th>\n",
              "      <th></th>\n",
              "      <th></th>\n",
              "    </tr>\n",
              "  </thead>\n",
              "  <tbody>\n",
              "    <tr>\n",
              "      <th>0</th>\n",
              "      <td>3024</td>\n",
              "      <td>3024</td>\n",
              "      <td>3024</td>\n",
              "      <td>3024</td>\n",
              "    </tr>\n",
              "    <tr>\n",
              "      <th>1</th>\n",
              "      <td>2305</td>\n",
              "      <td>2305</td>\n",
              "      <td>2305</td>\n",
              "      <td>2305</td>\n",
              "    </tr>\n",
              "  </tbody>\n",
              "</table>\n",
              "</div>\n",
              "    <div class=\"colab-df-buttons\">\n",
              "\n",
              "  <div class=\"colab-df-container\">\n",
              "    <button class=\"colab-df-convert\" onclick=\"convertToInteractive('df-933ebbac-5c29-4827-812c-4b487d1cb843')\"\n",
              "            title=\"Convert this dataframe to an interactive table.\"\n",
              "            style=\"display:none;\">\n",
              "\n",
              "  <svg xmlns=\"http://www.w3.org/2000/svg\" height=\"24px\" viewBox=\"0 -960 960 960\">\n",
              "    <path d=\"M120-120v-720h720v720H120Zm60-500h600v-160H180v160Zm220 220h160v-160H400v160Zm0 220h160v-160H400v160ZM180-400h160v-160H180v160Zm440 0h160v-160H620v160ZM180-180h160v-160H180v160Zm440 0h160v-160H620v160Z\"/>\n",
              "  </svg>\n",
              "    </button>\n",
              "\n",
              "  <style>\n",
              "    .colab-df-container {\n",
              "      display:flex;\n",
              "      gap: 12px;\n",
              "    }\n",
              "\n",
              "    .colab-df-convert {\n",
              "      background-color: #E8F0FE;\n",
              "      border: none;\n",
              "      border-radius: 50%;\n",
              "      cursor: pointer;\n",
              "      display: none;\n",
              "      fill: #1967D2;\n",
              "      height: 32px;\n",
              "      padding: 0 0 0 0;\n",
              "      width: 32px;\n",
              "    }\n",
              "\n",
              "    .colab-df-convert:hover {\n",
              "      background-color: #E2EBFA;\n",
              "      box-shadow: 0px 1px 2px rgba(60, 64, 67, 0.3), 0px 1px 3px 1px rgba(60, 64, 67, 0.15);\n",
              "      fill: #174EA6;\n",
              "    }\n",
              "\n",
              "    .colab-df-buttons div {\n",
              "      margin-bottom: 4px;\n",
              "    }\n",
              "\n",
              "    [theme=dark] .colab-df-convert {\n",
              "      background-color: #3B4455;\n",
              "      fill: #D2E3FC;\n",
              "    }\n",
              "\n",
              "    [theme=dark] .colab-df-convert:hover {\n",
              "      background-color: #434B5C;\n",
              "      box-shadow: 0px 1px 3px 1px rgba(0, 0, 0, 0.15);\n",
              "      filter: drop-shadow(0px 1px 2px rgba(0, 0, 0, 0.3));\n",
              "      fill: #FFFFFF;\n",
              "    }\n",
              "  </style>\n",
              "\n",
              "    <script>\n",
              "      const buttonEl =\n",
              "        document.querySelector('#df-933ebbac-5c29-4827-812c-4b487d1cb843 button.colab-df-convert');\n",
              "      buttonEl.style.display =\n",
              "        google.colab.kernel.accessAllowed ? 'block' : 'none';\n",
              "\n",
              "      async function convertToInteractive(key) {\n",
              "        const element = document.querySelector('#df-933ebbac-5c29-4827-812c-4b487d1cb843');\n",
              "        const dataTable =\n",
              "          await google.colab.kernel.invokeFunction('convertToInteractive',\n",
              "                                                    [key], {});\n",
              "        if (!dataTable) return;\n",
              "\n",
              "        const docLinkHtml = 'Like what you see? Visit the ' +\n",
              "          '<a target=\"_blank\" href=https://colab.research.google.com/notebooks/data_table.ipynb>data table notebook</a>'\n",
              "          + ' to learn more about interactive tables.';\n",
              "        element.innerHTML = '';\n",
              "        dataTable['output_type'] = 'display_data';\n",
              "        await google.colab.output.renderOutput(dataTable, element);\n",
              "        const docLink = document.createElement('div');\n",
              "        docLink.innerHTML = docLinkHtml;\n",
              "        element.appendChild(docLink);\n",
              "      }\n",
              "    </script>\n",
              "  </div>\n",
              "\n",
              "\n",
              "<div id=\"df-1de9b014-1bd3-4140-94e4-2acad3349e33\">\n",
              "  <button class=\"colab-df-quickchart\" onclick=\"quickchart('df-1de9b014-1bd3-4140-94e4-2acad3349e33')\"\n",
              "            title=\"Suggest charts\"\n",
              "            style=\"display:none;\">\n",
              "\n",
              "<svg xmlns=\"http://www.w3.org/2000/svg\" height=\"24px\"viewBox=\"0 0 24 24\"\n",
              "     width=\"24px\">\n",
              "    <g>\n",
              "        <path d=\"M19 3H5c-1.1 0-2 .9-2 2v14c0 1.1.9 2 2 2h14c1.1 0 2-.9 2-2V5c0-1.1-.9-2-2-2zM9 17H7v-7h2v7zm4 0h-2V7h2v10zm4 0h-2v-4h2v4z\"/>\n",
              "    </g>\n",
              "</svg>\n",
              "  </button>\n",
              "\n",
              "<style>\n",
              "  .colab-df-quickchart {\n",
              "      --bg-color: #E8F0FE;\n",
              "      --fill-color: #1967D2;\n",
              "      --hover-bg-color: #E2EBFA;\n",
              "      --hover-fill-color: #174EA6;\n",
              "      --disabled-fill-color: #AAA;\n",
              "      --disabled-bg-color: #DDD;\n",
              "  }\n",
              "\n",
              "  [theme=dark] .colab-df-quickchart {\n",
              "      --bg-color: #3B4455;\n",
              "      --fill-color: #D2E3FC;\n",
              "      --hover-bg-color: #434B5C;\n",
              "      --hover-fill-color: #FFFFFF;\n",
              "      --disabled-bg-color: #3B4455;\n",
              "      --disabled-fill-color: #666;\n",
              "  }\n",
              "\n",
              "  .colab-df-quickchart {\n",
              "    background-color: var(--bg-color);\n",
              "    border: none;\n",
              "    border-radius: 50%;\n",
              "    cursor: pointer;\n",
              "    display: none;\n",
              "    fill: var(--fill-color);\n",
              "    height: 32px;\n",
              "    padding: 0;\n",
              "    width: 32px;\n",
              "  }\n",
              "\n",
              "  .colab-df-quickchart:hover {\n",
              "    background-color: var(--hover-bg-color);\n",
              "    box-shadow: 0 1px 2px rgba(60, 64, 67, 0.3), 0 1px 3px 1px rgba(60, 64, 67, 0.15);\n",
              "    fill: var(--button-hover-fill-color);\n",
              "  }\n",
              "\n",
              "  .colab-df-quickchart-complete:disabled,\n",
              "  .colab-df-quickchart-complete:disabled:hover {\n",
              "    background-color: var(--disabled-bg-color);\n",
              "    fill: var(--disabled-fill-color);\n",
              "    box-shadow: none;\n",
              "  }\n",
              "\n",
              "  .colab-df-spinner {\n",
              "    border: 2px solid var(--fill-color);\n",
              "    border-color: transparent;\n",
              "    border-bottom-color: var(--fill-color);\n",
              "    animation:\n",
              "      spin 1s steps(1) infinite;\n",
              "  }\n",
              "\n",
              "  @keyframes spin {\n",
              "    0% {\n",
              "      border-color: transparent;\n",
              "      border-bottom-color: var(--fill-color);\n",
              "      border-left-color: var(--fill-color);\n",
              "    }\n",
              "    20% {\n",
              "      border-color: transparent;\n",
              "      border-left-color: var(--fill-color);\n",
              "      border-top-color: var(--fill-color);\n",
              "    }\n",
              "    30% {\n",
              "      border-color: transparent;\n",
              "      border-left-color: var(--fill-color);\n",
              "      border-top-color: var(--fill-color);\n",
              "      border-right-color: var(--fill-color);\n",
              "    }\n",
              "    40% {\n",
              "      border-color: transparent;\n",
              "      border-right-color: var(--fill-color);\n",
              "      border-top-color: var(--fill-color);\n",
              "    }\n",
              "    60% {\n",
              "      border-color: transparent;\n",
              "      border-right-color: var(--fill-color);\n",
              "    }\n",
              "    80% {\n",
              "      border-color: transparent;\n",
              "      border-right-color: var(--fill-color);\n",
              "      border-bottom-color: var(--fill-color);\n",
              "    }\n",
              "    90% {\n",
              "      border-color: transparent;\n",
              "      border-bottom-color: var(--fill-color);\n",
              "    }\n",
              "  }\n",
              "</style>\n",
              "\n",
              "  <script>\n",
              "    async function quickchart(key) {\n",
              "      const quickchartButtonEl =\n",
              "        document.querySelector('#' + key + ' button');\n",
              "      quickchartButtonEl.disabled = true;  // To prevent multiple clicks.\n",
              "      quickchartButtonEl.classList.add('colab-df-spinner');\n",
              "      try {\n",
              "        const charts = await google.colab.kernel.invokeFunction(\n",
              "            'suggestCharts', [key], {});\n",
              "      } catch (error) {\n",
              "        console.error('Error during call to suggestCharts:', error);\n",
              "      }\n",
              "      quickchartButtonEl.classList.remove('colab-df-spinner');\n",
              "      quickchartButtonEl.classList.add('colab-df-quickchart-complete');\n",
              "    }\n",
              "    (() => {\n",
              "      let quickchartButtonEl =\n",
              "        document.querySelector('#df-1de9b014-1bd3-4140-94e4-2acad3349e33 button');\n",
              "      quickchartButtonEl.style.display =\n",
              "        google.colab.kernel.accessAllowed ? 'block' : 'none';\n",
              "    })();\n",
              "  </script>\n",
              "</div>\n",
              "    </div>\n",
              "  </div>\n"
            ]
          },
          "metadata": {},
          "execution_count": 94
        }
      ],
      "source": [
        "train.groupby(['target']).count()"
      ]
    },
    {
      "cell_type": "markdown",
      "metadata": {
        "id": "55ypGDIIxuHm"
      },
      "source": [
        "2.1 10 наиболее встречающихся значений keyword"
      ]
    },
    {
      "cell_type": "code",
      "execution_count": null,
      "metadata": {
        "colab": {
          "base_uri": "https://localhost:8080/"
        },
        "id": "nhEjAPg8w6mr",
        "outputId": "95f96c6a-83d6-403d-fdf4-e3e1b3ec93b6"
      },
      "outputs": [
        {
          "output_type": "execute_result",
          "data": {
            "text/plain": [
              "['damage',\n",
              " 'siren',\n",
              " 'wreckage',\n",
              " 'fatalities',\n",
              " 'deluge',\n",
              " 'refugees',\n",
              " 'derail',\n",
              " 'fear',\n",
              " 'tsunami']"
            ]
          },
          "metadata": {},
          "execution_count": 95
        }
      ],
      "source": [
        "most_popular_keywords = train.keyword.value_counts().reset_index().head(11).iloc[1:10, :]['index'].to_list()\n",
        "most_popular_keywords"
      ]
    },
    {
      "cell_type": "code",
      "source": [
        "train_with_most_popular_keywords = train.loc[train['keyword'].isin(most_popular_keywords)]"
      ],
      "metadata": {
        "id": "iZfdzG_aHKd8"
      },
      "execution_count": null,
      "outputs": []
    },
    {
      "cell_type": "markdown",
      "metadata": {
        "id": "fd7PXrEf03eq"
      },
      "source": [
        "2.2 ступенчатая диаграмма распределения классов от ключевых слов"
      ]
    },
    {
      "cell_type": "code",
      "execution_count": null,
      "metadata": {
        "colab": {
          "base_uri": "https://localhost:8080/",
          "height": 696
        },
        "id": "Waxi4ir601En",
        "outputId": "c470863d-1aac-4e0c-f0b2-244ca66f92d4"
      },
      "outputs": [
        {
          "output_type": "display_data",
          "data": {
            "text/plain": [
              "<Figure size 1500x800 with 1 Axes>"
            ],
            "image/png": "[encoded data removed]"
          },
          "metadata": {}
        }
      ],
      "source": [
        "import seaborn as sns\n",
        "import matplotlib.pyplot as plt\n",
        "\n",
        "plt.figure(figsize=(15,8))\n",
        "sns.countplot(x = 'keyword', hue='target' , data = train_with_most_popular_keywords)\n",
        "plt.xlabel('10 popular keywords')\n",
        "plt.ylabel('how many times this word was met')\n",
        "plt.legend()\n",
        "plt.grid()\n",
        "plt.show()"
      ]
    },
    {
      "cell_type": "markdown",
      "source": [
        "Самое популярное слово (wreckage) может быть индикатором, который показывает является ли данный пост сообщением о катастрофе или нет(все твиты, где оно было, относятся к классу +1). По данной диаграмме можно сделать вывод, что очень важен контекст в данных текстах(поэтому при обучени придется использовать какой-то неединичной размерности n-граммы), потому что, например, для слова fear большая часть твитов не являются сообщениями о катастрофе, и это невозможно сказать без контекста(I feel fear I won't pass my exam/ I feel fear there was a car accident near me a few minutes ago)"
      ],
      "metadata": {
        "id": "Uv5U91VQOGk3"
      }
    },
    {
      "cell_type": "markdown",
      "metadata": {
        "id": "8uTCakoSrJuy"
      },
      "source": [
        "## Задание 3 (0.5 балла)\n",
        "\n",
        "В этом задании предлагается объединить все три текстовых столбца в один (просто сконкатенировать cтроки) и убрать столбец с индексом."
      ]
    },
    {
      "cell_type": "code",
      "source": [
        "y_train = train['target']"
      ],
      "metadata": {
        "id": "2MuPakVQPq7R"
      },
      "execution_count": null,
      "outputs": []
    },
    {
      "cell_type": "code",
      "source": [
        "y_test = test['target']"
      ],
      "metadata": {
        "id": "kQxhhVRaSQ2E"
      },
      "execution_count": null,
      "outputs": []
    },
    {
      "cell_type": "code",
      "source": [
        "train = train.drop(['id','target'], axis=1)"
      ],
      "metadata": {
        "id": "yGYf2afbQ5qH"
      },
      "execution_count": null,
      "outputs": []
    },
    {
      "cell_type": "code",
      "source": [
        "test = test.drop(['id','target'], axis=1)"
      ],
      "metadata": {
        "id": "8xuZsUQbSTrG"
      },
      "execution_count": null,
      "outputs": []
    },
    {
      "cell_type": "code",
      "source": [
        "train = train.agg(' '. join , axis= 1)"
      ],
      "metadata": {
        "id": "4JAZwa8oQslr"
      },
      "execution_count": null,
      "outputs": []
    },
    {
      "cell_type": "code",
      "source": [
        "test = test.agg(' '. join , axis= 1)"
      ],
      "metadata": {
        "id": "Baq3ftWaSYBS"
      },
      "execution_count": null,
      "outputs": []
    },
    {
      "cell_type": "code",
      "source": [
        "train"
      ],
      "metadata": {
        "colab": {
          "base_uri": "https://localhost:8080/"
        },
        "id": "TZmX6Gx9RIcp",
        "outputId": "b1e0494e-6e05-4600-9994-89c3b771f379"
      },
      "execution_count": null,
      "outputs": [
        {
          "output_type": "execute_result",
          "data": {
            "text/plain": [
              "1186    bridge%20collapse   Ashes 2015: AustraliaÛªs ...\n",
              "4071    hail Carol Stream, Illinois GREAT MICHIGAN TEC...\n",
              "5461    police Houston  CNN: Tennessee movie theater s...\n",
              "5787    rioting   Still rioting in a couple of hours l...\n",
              "7445    wounds Lake Highlands Crack in the path where ...\n",
              "                              ...                        \n",
              "5226    obliteration Merica! @Eganator2000 There aren'...\n",
              "5390    panic   just had a panic attack bc I don't hav...\n",
              "860     blood   Omron HEM-712C Automatic Blood Pressur...\n",
              "7603        Officials say a quarantine is in place at ...\n",
              "7270    whirlwind Stamford & Cork (& Shropshire) I mov...\n",
              "Length: 5329, dtype: object"
            ]
          },
          "metadata": {},
          "execution_count": 104
        }
      ]
    },
    {
      "cell_type": "code",
      "source": [
        "test"
      ],
      "metadata": {
        "colab": {
          "base_uri": "https://localhost:8080/"
        },
        "id": "myC6nTU6Sck_",
        "outputId": "533f6c48-e6a5-4c52-97e4-00ce891f52ba"
      },
      "execution_count": null,
      "outputs": [
        {
          "output_type": "execute_result",
          "data": {
            "text/plain": [
              "2644    destruction   So you have a new weapon that ca...\n",
              "2227    deluge   The f$&amp;@ing things I do for #GISH...\n",
              "5448    police UK DT @georgegalloway: RT @Galloway4May...\n",
              "132     aftershock   Aftershock back to school kick of...\n",
              "6845    trauma Montgomery County, MD in response to tr...\n",
              "                              ...                        \n",
              "4307    hellfire 570 Vanderbilt; Brooklyn, NY New cock...\n",
              "3375    evacuation USA Bend Post Office roofers cut ga...\n",
              "1710    collided   Monsoon flooding - Monsoon rains ha...\n",
              "4898    massacre Ireland Remember this was a massacre ...\n",
              "6753    tornado Asheville, NC I liked a @YouTube video...\n",
              "Length: 2284, dtype: object"
            ]
          },
          "metadata": {},
          "execution_count": 105
        }
      ]
    },
    {
      "cell_type": "markdown",
      "metadata": {
        "id": "TPFCRSc8rJuz"
      },
      "source": [
        "## Задание 4 (0.5 балла)\n",
        "\n",
        "Далее мы будем пока работать только с train частью.\n",
        "\n",
        "1. Предобработайте данные (train часть) с помощью CountVectorizer.\n",
        "2. Какого размера получилась матрица?\n"
      ]
    },
    {
      "cell_type": "code",
      "source": [
        "from sklearn.feature_extraction.text import CountVectorizer\n",
        "\n",
        "cnt_vec = CountVectorizer()\n",
        "X_train = cnt_vec.fit_transform(train)\n",
        "X_train.toarray()"
      ],
      "metadata": {
        "colab": {
          "base_uri": "https://localhost:8080/"
        },
        "id": "mheP8BZJRj-B",
        "outputId": "746ab032-0253-4e97-d729-7c9ae85e3257"
      },
      "execution_count": null,
      "outputs": [
        {
          "output_type": "execute_result",
          "data": {
            "text/plain": [
              "array([[0, 0, 0, ..., 0, 0, 0],\n",
              "       [0, 0, 0, ..., 0, 0, 0],\n",
              "       [0, 0, 0, ..., 0, 0, 0],\n",
              "       ...,\n",
              "       [0, 0, 0, ..., 0, 0, 0],\n",
              "       [0, 0, 0, ..., 0, 0, 0],\n",
              "       [0, 0, 0, ..., 0, 0, 0]])"
            ]
          },
          "metadata": {},
          "execution_count": 106
        }
      ]
    },
    {
      "cell_type": "markdown",
      "metadata": {
        "id": "N5WvVAWcrJu0"
      },
      "source": [
        "## Задание 5 (1 балл)\n",
        "\n",
        "В предыдущем пункте у вас должна была получиться достаточно большая матрица.\n",
        "Если вы взгляните на текст, то увидете, что там есть множество специальных символов, ссылок и прочего мусора.\n",
        "\n",
        "Давайте также посмотрим на словарь, который получился в результате построения CountVectorizer, его можно найти в поле vocabulary_ инстанса этого класса. Давайте напишем функцию, которая печает ответы на следующие вопросы:\n",
        "\n",
        "1. Найдите в этом словаре все слова, которые содержат цифры. Сколько таких слов нашлось?\n",
        "\n",
        "2. Найдите все слова, которые содержат символы пунктуации. Сколько таких слов нашлось?\n",
        "\n",
        "3. Сколько хэштегов (токен начинается на #) и упоминаний (токен начинается на @) осталось в словаре?"
      ]
    },
    {
      "cell_type": "code",
      "source": [
        "import re"
      ],
      "metadata": {
        "id": "Z_KXVFFNcNsR"
      },
      "execution_count": null,
      "outputs": []
    },
    {
      "cell_type": "code",
      "source": [
        "def symbols_in_dict(vocabulary):\n",
        "    amount_1 = 0\n",
        "    amount_2 = len(vocabulary)\n",
        "    amount_3 = 0\n",
        "    amount_4 = 0\n",
        "    for feature in vocabulary.keys():\n",
        "        match_1 = re.search('\\d+', str(feature))\n",
        "        match_2 = re.match(r'^[A-Za-z0-9]+$', str(feature))\n",
        "        match_3 = re.match(r'^#[A-Za-z0-9]+$', str(feature))\n",
        "        match_4 = re.match(r'^@[A-Za-z0-9]+$', str(feature))\n",
        "        if match_1:\n",
        "            amount_1 += 1\n",
        "        if match_2:\n",
        "            amount_2 = amount_2 -  1\n",
        "        if match_3:\n",
        "            amount_3 += 1\n",
        "        if match_4:\n",
        "            amount_4 += 1\n",
        "    print (f'Содержат цифры {amount_1}.')\n",
        "    print (f'Содержат знаки препинания {amount_2}.')\n",
        "    print (f'Содержат хештеги {amount_3}.')\n",
        "    print (f'Содержат упоминания {amount_4}.')\n",
        "\n",
        "\n",
        "symbols_in_dict(cnt_vec.vocabulary_)"
      ],
      "metadata": {
        "colab": {
          "base_uri": "https://localhost:8080/"
        },
        "id": "OrfvwPOJUo-p",
        "outputId": "22a6e7cc-ac9d-4f19-eea9-58123b64e7d5"
      },
      "execution_count": null,
      "outputs": [
        {
          "output_type": "stream",
          "name": "stdout",
          "text": [
            "Содержат цифры 3812.\n",
            "Содержат знаки препинания 433.\n",
            "Содержат хештеги 0.\n",
            "Содержат упоминания 0.\n"
          ]
        }
      ]
    },
    {
      "cell_type": "markdown",
      "metadata": {
        "id": "WoX0p0IsrJu1"
      },
      "source": [
        "## Задание 6 (0.5 балла)\n",
        "\n",
        "Вспомним, что на семинаре по текстам мы узнали, что в nltk есть специальный токенизатор для текстов - TweetTokenizer. Попробуем применить CountVectorizer с этим токенизатором. Ответьте на все вопросы из предыдущего пункта для TweetTokenizer и сравните результаты."
      ]
    },
    {
      "cell_type": "code",
      "execution_count": null,
      "metadata": {
        "id": "qe4OBsejrJu2",
        "colab": {
          "base_uri": "https://localhost:8080/"
        },
        "outputId": "84219595-e1d7-4e1a-9512-e26ccd16f4fe"
      },
      "outputs": [
        {
          "output_type": "stream",
          "name": "stderr",
          "text": [
            "/usr/local/lib/python3.10/dist-packages/sklearn/feature_extraction/text.py:528: UserWarning: The parameter 'token_pattern' will not be used since 'tokenizer' is not None'\n",
            "  warnings.warn(\n"
          ]
        },
        {
          "output_type": "execute_result",
          "data": {
            "text/plain": [
              "array([[0, 0, 0, ..., 0, 0, 0],\n",
              "       [0, 0, 0, ..., 0, 0, 0],\n",
              "       [0, 0, 0, ..., 0, 0, 0],\n",
              "       ...,\n",
              "       [0, 0, 0, ..., 0, 0, 0],\n",
              "       [0, 0, 0, ..., 0, 0, 0],\n",
              "       [1, 0, 0, ..., 0, 0, 0]])"
            ]
          },
          "metadata": {},
          "execution_count": 109
        }
      ],
      "source": [
        "from nltk.tokenize import TweetTokenizer\n",
        "# Чтобы узнать, какие параметры есть у этого токенайзера - используйте help(TweetTokenizer)\n",
        "# Для того, чтобы передать токенайзер в CountVectorizer используйте параметр tokenizer\n",
        "tw = TweetTokenizer()\n",
        "cnt_vec = CountVectorizer(tokenizer = tw.tokenize)\n",
        "X_train = cnt_vec.fit_transform(train)\n",
        "X_train.toarray()"
      ]
    },
    {
      "cell_type": "code",
      "source": [
        "symbols_in_dict(cnt_vec.vocabulary_)"
      ],
      "metadata": {
        "colab": {
          "base_uri": "https://localhost:8080/"
        },
        "id": "cPfaQAi8eCaA",
        "outputId": "56f007bb-6f9a-46a6-b61b-f9ec89843f6d"
      },
      "execution_count": null,
      "outputs": [
        {
          "output_type": "stream",
          "name": "stdout",
          "text": [
            "Содержат цифры 3939.\n",
            "Содержат знаки препинания 7466.\n",
            "Содержат хештеги 1444.\n",
            "Содержат упоминания 1413.\n"
          ]
        }
      ]
    },
    {
      "cell_type": "code",
      "source": [
        "cnt_vec.vocabulary_\n"
      ],
      "metadata": {
        "id": "bEQdd7kymS76",
        "colab": {
          "base_uri": "https://localhost:8080/"
        },
        "outputId": "cbec8564-c60b-4136-d123-ac6aab224466"
      },
      "execution_count": null,
      "outputs": [
        {
          "output_type": "execute_result",
          "data": {
            "text/plain": [
              "{'bridge': 5275,\n",
              " '%': 1472,\n",
              " '20collapse': 1800,\n",
              " 'ashes': 4530,\n",
              " '2015': 1773,\n",
              " ':': 2229,\n",
              " 'australia': 4628,\n",
              " '\\x89': 19587,\n",
              " 'ûªs': 19640,\n",
              " 'collapse': 6032,\n",
              " 'at': 4567,\n",
              " 'trent': 18450,\n",
              " 'among': 4300,\n",
              " 'worst': 19368,\n",
              " 'in': 12552,\n",
              " 'history': 8949,\n",
              " 'england': 7415,\n",
              " 'bundled': 5388,\n",
              " 'out': 14999,\n",
              " 'for': 8041,\n",
              " '60': 2077,\n",
              " '...': 1512,\n",
              " 'http://t.co/t5trhjuau0': 11456,\n",
              " 'hail': 8661,\n",
              " 'carol': 5600,\n",
              " 'stream': 17648,\n",
              " ',': 1483,\n",
              " 'illinois': 12503,\n",
              " 'great': 8518,\n",
              " 'michigan': 14071,\n",
              " 'technique': 18025,\n",
              " 'camp': 5510,\n",
              " 'b1g': 4691,\n",
              " 'thanks': 18124,\n",
              " 'to': 18284,\n",
              " '@bmurph1019': 2490,\n",
              " '@hail_youtsey': 2905,\n",
              " '.': 1509,\n",
              " '@termn8r13': 3718,\n",
              " '#goblue': 520,\n",
              " '#wrestleon': 1442,\n",
              " 'http://t.co/oaskgki6qj': 10996,\n",
              " 'police': 15494,\n",
              " 'houston': 9082,\n",
              " 'cnn': 5982,\n",
              " 'tennessee': 18063,\n",
              " 'movie': 14348,\n",
              " 'theater': 18131,\n",
              " 'shooting': 17007,\n",
              " 'suspect': 17851,\n",
              " 'killed': 13124,\n",
              " 'by': 5442,\n",
              " 'http://t.co/di8elzswnr': 9897,\n",
              " 'rioting': 16377,\n",
              " 'still': 17597,\n",
              " 'a': 3943,\n",
              " 'couple': 6306,\n",
              " 'of': 14802,\n",
              " 'hours': 9074,\n",
              " 'left': 13382,\n",
              " 'until': 18712,\n",
              " 'i': 12430,\n",
              " 'have': 8772,\n",
              " 'be': 4854,\n",
              " 'up': 18717,\n",
              " 'class': 5919,\n",
              " 'wounds': 19377,\n",
              " 'lake': 13258,\n",
              " 'highlands': 8904,\n",
              " 'crack': 6334,\n",
              " 'the': 18130,\n",
              " 'path': 15180,\n",
              " 'where': 19178,\n",
              " 'wiped': 19266,\n",
              " 'this': 18176,\n",
              " 'morning': 14299,\n",
              " 'during': 7173,\n",
              " 'beach': 4856,\n",
              " 'run': 16541,\n",
              " 'surface': 17827,\n",
              " 'on': 14880,\n",
              " 'elbow': 7295,\n",
              " 'and': 4316,\n",
              " 'right': 16363,\n",
              " 'knee': 13166,\n",
              " 'http://t.co/yaqrsximph': 11920,\n",
              " 'airplane': 4169,\n",
              " '20accident': 1790,\n",
              " 'somewhere': 17326,\n",
              " 'there': 18148,\n",
              " 'experts': 7623,\n",
              " 'france': 8109,\n",
              " 'begin': 4901,\n",
              " 'examining': 7574,\n",
              " 'debris': 6606,\n",
              " 'found': 8088,\n",
              " 'reunion': 16308,\n",
              " 'island': 12793,\n",
              " 'french': 8143,\n",
              " 'air': 4162,\n",
              " 'accident': 4001,\n",
              " 'http://t.co/tagzbcxfj0': 11464,\n",
              " '#mlb': 790,\n",
              " 'bloody': 5107,\n",
              " 'isolated': 12803,\n",
              " 'city': 5897,\n",
              " 'world': 19351,\n",
              " 'perth': 15298,\n",
              " \"'\": 1474,\n",
              " 'came': 5506,\n",
              " 'kill': 13121,\n",
              " 'indians': 12593,\n",
              " 'fun': 8206,\n",
              " 'video': 18883,\n",
              " 'smirking': 17235,\n",
              " 'remorseless': 16189,\n",
              " 'pakistani': 15087,\n",
              " 'killer': 13125,\n",
              " 'shows': 17039,\n",
              " 'him': 8924,\n",
              " 'boasting': 5134,\n",
              " 'http://t.co/fpjlwoxklg': 10116,\n",
              " 'burning': 5401,\n",
              " '@johnsontionne': 3065,\n",
              " 'except': 7579,\n",
              " 'idk': 12469,\n",
              " 'them': 18138,\n",
              " '?': 2253,\n",
              " \"it's\": 12815,\n",
              " 'really': 16039,\n",
              " 'destroy': 6774,\n",
              " 'he': 8787,\n",
              " '/': 1513,\n",
              " 'or': 14945,\n",
              " 'she': 16955,\n",
              " 'her': 8868,\n",
              " '(': 1475,\n",
              " 'ask': 4540,\n",
              " ')': 1479,\n",
              " 'house': 9075,\n",
              " 'wounded': 19376,\n",
              " 'maracay': 13830,\n",
              " 'y': 19456,\n",
              " 'nirgua': 14601,\n",
              " 'venezuela': 18836,\n",
              " 'officer': 14815,\n",
              " 'dead': 6585,\n",
              " 'after': 4118,\n",
              " 'exchanging': 7583,\n",
              " 'shots': 17020,\n",
              " 'http://t.co/xxfk4khbiw': 11888,\n",
              " 'wreck': 19389,\n",
              " 'currently': 6468,\n",
              " 'writing': 19400,\n",
              " 'book': 5169,\n",
              " \"i'm\": 12433,\n",
              " 'friggin': 8166,\n",
              " 'destiel': 6770,\n",
              " 'sucks': 17740,\n",
              " 'read': 16023,\n",
              " 'vine': 18898,\n",
              " 'description': 6750,\n",
              " 'https://t.co/mkx6ux4ozt': 12210,\n",
              " 'mudslide': 14369,\n",
              " 'malibu': 13790,\n",
              " 'santafe': 16653,\n",
              " 'winning': 19260,\n",
              " '!': 0,\n",
              " 'sterling-scott': 17584,\n",
              " 'red': 16089,\n",
              " 'carpet': 5604,\n",
              " 'fundraiser': 8209,\n",
              " 'oso': 14982,\n",
              " 'https://t.co/ma4ra7atql': 12206,\n",
              " 'http://t.co/cg579wldne': 9795,\n",
              " 'casualties': 5637,\n",
              " 'canadian': 5533,\n",
              " 'bread': 5251,\n",
              " '@libertarianluke': 3178,\n",
              " 'all': 4223,\n",
              " 'that': 18125,\n",
              " 'honest': 9014,\n",
              " 'if': 12473,\n",
              " 'people': 15261,\n",
              " 'want': 19012,\n",
              " 'go': 8419,\n",
              " 'rampage': 15958,\n",
              " 'let': 13425,\n",
              " 'use': 18761,\n",
              " 'their': 18136,\n",
              " 'own': 15049,\n",
              " 'hands': 8699,\n",
              " 'feet': 7803,\n",
              " 'no': 14613,\n",
              " 'ambulance': 4282,\n",
              " 'amsterdam': 4305,\n",
              " 'http://t.co/7xglah10zl': 9460,\n",
              " 'twelve': 18570,\n",
              " 'feared': 7783,\n",
              " 'helicopter': 8848,\n",
              " 'crash': 6347,\n",
              " 'http://t.co/thmblaatzp': 11495,\n",
              " 'electrocuted': 7307,\n",
              " 'got': 8467,\n",
              " 'last': 13309,\n",
              " 'night': 14590,\n",
              " 'work': 19341,\n",
              " 'first': 7915,\n",
              " 'time': 18248,\n",
              " 'my': 14421,\n",
              " 'life': 13453,\n",
              " 'shit': 16993,\n",
              " 'was': 19041,\n",
              " 'weird': 19130,\n",
              " 'drown': 7116,\n",
              " 'some': 17313,\n",
              " 'older': 14864,\n",
              " 'native': 14476,\n",
              " 'australians': 4632,\n",
              " 'believe': 4924,\n",
              " 'oceans': 14791,\n",
              " 'were': 19144,\n",
              " 'created': 6362,\n",
              " 'from': 8170,\n",
              " 'urine': 18744,\n",
              " 'an': 4307,\n",
              " 'angry': 4335,\n",
              " 'god': 8426,\n",
              " 'who': 19200,\n",
              " 'tried': 18466,\n",
              " 'volcano': 18941,\n",
              " 'west': 19148,\n",
              " 'coast': 5994,\n",
              " 'cali': 5486,\n",
              " 'usa': 18753,\n",
              " 'architect': 4452,\n",
              " 'behind': 4912,\n",
              " 'kanye': 13032,\n",
              " 'https://t.co/musbik7ejf': 12215,\n",
              " 'attack': 4583,\n",
              " 'mumbai': 14387,\n",
              " 'india': 12587,\n",
              " 'shud': 17043,\n",
              " 'not': 14667,\n",
              " 'give': 8380,\n",
              " 'any': 4379,\n",
              " 'evidence': 7563,\n",
              " '2': 1748,\n",
              " 'pak.they': 15085,\n",
              " 'will': 19230,\n",
              " 'share': 16941,\n",
              " 'with': 19278,\n",
              " 'terrorists': 18088,\n",
              " '&': 1473,\n",
              " 'next': 14562,\n",
              " 'attack.share': 4584,\n",
              " 'oth': 14986,\n",
              " 'contries': 6222,\n",
              " 'https://t.co/qiopbtiuvu': 12254,\n",
              " 'body': 5142,\n",
              " '20bag': 1791,\n",
              " 'new': 14546,\n",
              " 'york': 19510,\n",
              " 'auth': 4634,\n",
              " 'louis': 13647,\n",
              " 'vuitton': 18959,\n",
              " 'brown': 5322,\n",
              " 'saumur': 16681,\n",
              " '35': 1924,\n",
              " 'cross': 6400,\n",
              " 'shoulder': 17023,\n",
              " 'bag': 4721,\n",
              " 'monogram': 14260,\n",
              " '7.23': 2115,\n",
              " '419-3': 1984,\n",
              " '-': 1484,\n",
              " 'full': 8202,\n",
              " 'û_': 19624,\n",
              " 'http://t.co/hcdiwe5flc': 10292,\n",
              " 'http://t.co/zlvebeoavg': 12032,\n",
              " 'annihilated': 4348,\n",
              " 'higher': 8900,\n",
              " 'places': 15413,\n",
              " 'episode': 7460,\n",
              " 'trunks': 18507,\n",
              " 'freiza': 8141,\n",
              " 'is': 12782,\n",
              " 'cleanest': 5925,\n",
              " 'ever': 7546,\n",
              " 'showed': 17035,\n",
              " 'nigga': 14588,\n",
              " 'mercy': 14020,\n",
              " 'cyclone': 6489,\n",
              " 'hyderabad': 12421,\n",
              " '@roughdeal1': 3544,\n",
              " 'ante': 4361,\n",
              " 'hudhud': 12359,\n",
              " 'chandrababu': 5735,\n",
              " 'valle': 18798,\n",
              " 'ne': 14500,\n",
              " 'ga': 8236,\n",
              " '65': 2095,\n",
              " '@zhenghxn': 3932,\n",
              " '11': 1614,\n",
              " 'eyes': 7663,\n",
              " 'akame': 4180,\n",
              " 'tokyo': 18301,\n",
              " 'ghoul': 8358,\n",
              " 'damn': 6521,\n",
              " 'dont': 7022,\n",
              " 'dare': 6544,\n",
              " 'watch': 19055,\n",
              " 'suicide': 17756,\n",
              " '20bombing': 1797,\n",
              " 'principality': 15675,\n",
              " 'zeron': 19562,\n",
              " '@rayquazaerk': 3498,\n",
              " 'are': 4454,\n",
              " 'christian': 5860,\n",
              " 'sure': 17822,\n",
              " 'but': 5427,\n",
              " \"don't\": 7013,\n",
              " 'bombing': 5161,\n",
              " 'employed': 7370,\n",
              " 'often': 14832,\n",
              " 'as': 4517,\n",
              " 'it': 12813,\n",
              " 'islamic': 12791,\n",
              " 'groups': 8562,\n",
              " 'demolished': 6696,\n",
              " '@jackmulholland1': 3016,\n",
              " 'think': 18169,\n",
              " 'also': 4259,\n",
              " 'became': 4878,\n",
              " 'marquis': 13863,\n",
              " 'then': 18142,\n",
              " 'carlos': 5595,\n",
              " \"charlie's\": 5760,\n",
              " 'finally': 7877,\n",
              " \"dublin's\": 7138,\n",
              " 'sadly': 16590,\n",
              " 'inundated': 12733,\n",
              " 'surf': 17826,\n",
              " 'hi': 8889,\n",
              " 'waimea': 18977,\n",
              " 'bay': 4839,\n",
              " 'like': 13473,\n",
              " 'surfers': 17828,\n",
              " 'https://t.co/czdw8oowa2': 12134,\n",
              " 'collision': 6044,\n",
              " 'denver': 6717,\n",
              " 'colorado': 6056,\n",
              " 'motorcyclist': 14328,\n",
              " 'bicyclist': 4993,\n",
              " 'injured': 12641,\n",
              " 'broadway': 5307,\n",
              " 'http://t.co/zl7ojdaj3u': 12028,\n",
              " 'flames': 7940,\n",
              " 'around': 4492,\n",
              " 'you': 19515,\n",
              " 'maryland': 13874,\n",
              " 'mansion': 13822,\n",
              " 'fire': 7898,\n",
              " '6': 2072,\n",
              " 'caused': 5661,\n",
              " 'damaged': 6513,\n",
              " 'plug': 15464,\n",
              " 'under': 18649,\n",
              " 'christmas': 5864,\n",
              " 'tree': 18439,\n",
              " 'report': 16221,\n",
              " 'says': 16693,\n",
              " 'into': 12727,\n",
              " 'http://t.co/lkjfabqzb3': 10718,\n",
              " 'demolish': 6694,\n",
              " 'nyhc': 14748,\n",
              " 'going': 8433,\n",
              " \"drake's\": 7066,\n",
              " 'over': 15026,\n",
              " 'ghostwriting': 8357,\n",
              " 'should': 17021,\n",
              " 'know': 13179,\n",
              " 'rihanna': 16367,\n",
              " 'lives': 13538,\n",
              " 'door': 7024,\n",
              " 'buildings': 5370,\n",
              " '20burning': 1799,\n",
              " 'blue': 5120,\n",
              " 'yes': 19489,\n",
              " '@1acd4900c1424d1': 2259,\n",
              " '@foxnews': 2835,\n",
              " 'one': 14885,\n",
              " 'down': 7044,\n",
              " 'looting': 13623,\n",
              " 'forest': 8055,\n",
              " '20fires': 1806,\n",
              " 'nicola': 14579,\n",
              " 'valley': 18799,\n",
              " 'fires': 7911,\n",
              " 'dying': 7186,\n",
              " 'salmon': 16615,\n",
              " 'act': 4032,\n",
              " 'deny': 6718,\n",
              " 'climate': 5946,\n",
              " 'change': 5736,\n",
              " 'nightmares': 14592,\n",
              " 'here': 8869,\n",
              " 'http://t.co/rbzomwgjee': 11288,\n",
              " '#bcpoli': 156,\n",
              " '#canpoli': 231,\n",
              " '#vanpoli': 1368,\n",
              " 'http://t.co/ns1aggfnxz': 10946,\n",
              " '#shoes': 1142,\n",
              " 'asics': 4538,\n",
              " 'gt-ii': 8574,\n",
              " 'super': 17796,\n",
              " '2.0': 1750,\n",
              " 'ronnie': 16464,\n",
              " 'fieg': 7848,\n",
              " 'kith': 13159,\n",
              " 'white': 19195,\n",
              " '3m': 1953,\n",
              " 'x': 19428,\n",
              " 'gel': 8316,\n",
              " 'grey': 8540,\n",
              " 'http://t.co/od250zshfy': 11004,\n",
              " 'sandstorm': 16645,\n",
              " 'airport': 4172,\n",
              " 'get': 8346,\n",
              " 'swallowed': 17862,\n",
              " 'minute': 14164,\n",
              " 'http://t.co/wd9odwjj9l': 11751,\n",
              " '20on': 1810,\n",
              " '20fire': 1805,\n",
              " 'uk': 18621,\n",
              " '#tweetlikeitsseptember11th2001': 1336,\n",
              " 'those': 18183,\n",
              " 'two': 18580,\n",
              " 'oil': 14842,\n",
              " '20spill': 1816,\n",
              " 'ny': 14740,\n",
              " 'california': 5488,\n",
              " 'spill': 17433,\n",
              " 'might': 14099,\n",
              " 'larger': 13302,\n",
              " 'than': 18116,\n",
              " 'projected': 15717,\n",
              " 'http://t.co/xwxbyhtuzc': 11887,\n",
              " 'http://t.co/wzedxefblg': 11812,\n",
              " 'cartoon': 5616,\n",
              " 'bears': 4862,\n",
              " 'without': 19283,\n",
              " 'we': 19086,\n",
              " 'would': 19370,\n",
              " 'qave': 15860,\n",
              " 'knowlddge': 13181,\n",
              " 'toilet': 18299,\n",
              " 'paper': 15122,\n",
              " 'drought': 7112,\n",
              " 'miami': 14067,\n",
              " '@_gaabyx': 2286,\n",
              " 'purple': 15837,\n",
              " 'activist': 4043,\n",
              " 'thought': 18186,\n",
              " 'injuries': 12643,\n",
              " 'madison': 13743,\n",
              " 'wi': 19213,\n",
              " 'st': 17500,\n",
              " 'mo': 14215,\n",
              " '@buffoonmike': 2519,\n",
              " 'knew': 13168,\n",
              " 'doing': 6997,\n",
              " 'much': 14367,\n",
              " 'bite': 5044,\n",
              " 'us': 18749,\n",
              " 'influenced': 12628,\n",
              " 'shitty': 16997,\n",
              " 'staff': 17507,\n",
              " 'acquisitions': 4027,\n",
              " 'landslide': 13281,\n",
              " 'austin': 4627,\n",
              " 'texas': 18101,\n",
              " '@toddstarnes': 3777,\n",
              " 'enjoy': 7421,\n",
              " 'impending': 12532,\n",
              " 'todd': 18292,\n",
              " 'hehe': 8837,\n",
              " 'apocalypse': 4401,\n",
              " 'oregon': 14957,\n",
              " 'look': 13608,\n",
              " 'grizzly': 8550,\n",
              " 'peak': 15229,\n",
              " 'now': 14695,\n",
              " 'looks': 13612,\n",
              " 'beginning': 4903,\n",
              " 'dystopian': 7189,\n",
              " 'detonation': 6791,\n",
              " 'ignition': 12482,\n",
              " 'knock': 13174,\n",
              " 'sensor-senso': 16853,\n",
              " 'standard': 17520,\n",
              " 'ks100': 13211,\n",
              " 'http://t.co/7o4lnfbe7k': 9456,\n",
              " 'http://t.co/fvzsgjtbew': 10140,\n",
              " '20responders': 1813,\n",
              " 'week': 19120,\n",
              " 'responders': 16270,\n",
              " 'dart': 6552,\n",
              " 'members': 14000,\n",
              " 'participating': 15154,\n",
              " 'four': 8093,\n",
              " 'day': 6572,\n",
              " 'intensive': 12700,\n",
              " 'technical': 18023,\n",
              " 'large': 13301,\n",
              " 'animal': 4336,\n",
              " 'http://t.co/tl93aod3er': 11507,\n",
              " 'military': 14113,\n",
              " 'lot': 13639,\n",
              " '20': 1759,\n",
              " 'tom': 18307,\n",
              " 'clancy': 5915,\n",
              " 'mystery': 14427,\n",
              " 'novels': 14693,\n",
              " 'paperback': 15123,\n",
              " 'http://t.co/obix79ncxn': 10999,\n",
              " '#tomclancy': 1287,\n",
              " 'drowning': 7118,\n",
              " 'coventry': 6318,\n",
              " 'why': 19211,\n",
              " 'low': 13658,\n",
              " 'self-image': 16825,\n",
              " 'take': 17948,\n",
              " 'quiz': 15898,\n",
              " 'http://t.co/z8r6r3nbtb': 11996,\n",
              " 'http://t.co/namffldh5h': 10889,\n",
              " 'gonna': 8443,\n",
              " 'fight': 7856,\n",
              " 'taylor': 17999,\n",
              " 'soon': 17342,\n",
              " 'danger': 6533,\n",
              " 'hailing': 8662,\n",
              " 'dayton': 6576,\n",
              " 'wish': 19274,\n",
              " 'could': 6293,\n",
              " \"victoria's\": 18874,\n",
              " 'secret': 16787,\n",
              " 'front': 8171,\n",
              " 'good': 8444,\n",
              " 'flood': 7976,\n",
              " 'spot': 17460,\n",
              " 'combo': 6066,\n",
              " '53inch': 2045,\n",
              " '300w': 1901,\n",
              " 'curved': 6472,\n",
              " 'cree': 6371,\n",
              " 'led': 13375,\n",
              " 'light': 13463,\n",
              " 'bar': 4773,\n",
              " '4x4': 2019,\n",
              " 'offroad': 14827,\n",
              " 'fog': 8008,\n",
              " 'lamp': 13265,\n",
              " 're': 16009,\n",
              " 'http://t.co/o097vsotxk': 10972,\n",
              " 'http://t.co/i23xy7iejj': 10366,\n",
              " 'severe': 16901,\n",
              " 'weather': 19103,\n",
              " 'bulletin': 5377,\n",
              " '5': 2021,\n",
              " 'typhoon': 18593,\n",
              " 'ûï': 19644,\n",
              " '#hannaph': 555,\n",
              " 'û': 19623,\n",
              " '\\x9d': 19589,\n",
              " 'soudelor': 17358,\n",
              " 'tropical': 18492,\n",
              " 'warning': 19026,\n",
              " 'issued': 12808,\n",
              " '5:00': 2062,\n",
              " 'pm': 15471,\n",
              " '06': 1541,\n",
              " 'http://t.co/thhjjw51pe': 11494,\n",
              " 'fits': 7923,\n",
              " '01-06': 1526,\n",
              " 'bmw': 5128,\n",
              " '325ci': 1916,\n",
              " '2.5': 1755,\n",
              " 'l-l': 13236,\n",
              " 'http://t.co/gbvdnczjou': 10181,\n",
              " 'http://t.co/c211hise0r': 9762,\n",
              " 'explosion': 7636,\n",
              " 'london': 13594,\n",
              " 'united': 18684,\n",
              " 'kingdom': 13143,\n",
              " '10': 1580,\n",
              " 'chemical': 5789,\n",
              " 'park': 15140,\n",
              " 'western': 19153,\n",
              " 'germany': 8342,\n",
              " 'http://t.co/xbznu0qkvs': 11832,\n",
              " 'bomb': 5156,\n",
              " 'soul': 17361,\n",
              " 'food': 8027,\n",
              " 'sound': 17365,\n",
              " 'so': 17273,\n",
              " 'terrorism': 18086,\n",
              " 'truth': 18511,\n",
              " 'https://t.co/bejftygjil': 12123,\n",
              " '#news': 846,\n",
              " '#bbc': 151,\n",
              " '#cnn': 275,\n",
              " '#islam': 649,\n",
              " '#truth': 1322,\n",
              " '#god': 521,\n",
              " '#isis': 648,\n",
              " '#terrorism': 1248,\n",
              " '#quran': 1028,\n",
              " '#lies': 725,\n",
              " 'http://t.co/jlczidz7vu': 10514,\n",
              " 'sinking': 17117,\n",
              " '¢': 19591,\n",
              " 'your': 19526,\n",
              " 'lost': 13638,\n",
              " 'alone': 4249,\n",
              " 'stone': 17612,\n",
              " 'carry': 5609,\n",
              " 'onå': 14904,\n",
              " '¡': 19590,\n",
              " 'å': 19603,\n",
              " 'hostage': 9061,\n",
              " 'chicago': 5804,\n",
              " '@mylittlepwnies3': 3339,\n",
              " '@early__may': 2763,\n",
              " '@anathemazhiv': 2359,\n",
              " '@tonysandos': 3788,\n",
              " 'which': 19184,\n",
              " 'has': 8748,\n",
              " 'do': 6975,\n",
              " 'lebanon': 13374,\n",
              " '80s': 2164,\n",
              " 'iran': 12765,\n",
              " 'crisis': 6391,\n",
              " 'libya': 13447,\n",
              " 'pan': 15103,\n",
              " 'am': 4270,\n",
              " 'pa': 15056,\n",
              " 'pulls': 15808,\n",
              " 'gun': 8604,\n",
              " 'man': 13800,\n",
              " 'apparent': 4410,\n",
              " 'provocation': 15771,\n",
              " 'http://t.co/lhw4vtbhzg': 10711,\n",
              " 'via': 18861,\n",
              " '@dailykos': 2657,\n",
              " 'derailment': 6737,\n",
              " 'minneapolis': 14154,\n",
              " 'mn': 14213,\n",
              " 'train': 18400,\n",
              " 'patna': 15189,\n",
              " 'news': 14556,\n",
              " 'casualty': 5638,\n",
              " 'far': 7734,\n",
              " 'indian': 12590,\n",
              " 'express': 7645,\n",
              " 'http://t.co/yh5vetm0yz': 11938,\n",
              " 'http://t.co/17wgug8z0m': 9154,\n",
              " 'panic': 15114,\n",
              " '#dream': 363,\n",
              " '#magic': 757,\n",
              " '#linden': 728,\n",
              " 'method': 14042,\n",
              " 'lite': 13517,\n",
              " 'version': 18850,\n",
              " '#': 1,\n",
              " '1': 1565,\n",
              " 'anxiety': 4378,\n",
              " 'cure': 6461,\n",
              " 'program': 15711,\n",
              " 'http://t.co/073izwx0lb': 9101,\n",
              " 'lind': 13489,\n",
              " 'http://t.co/okmlagvkjv': 11026,\n",
              " 'rescued': 16243,\n",
              " 'jammu': 12859,\n",
              " '|': 19582,\n",
              " 'kashmir': 13039,\n",
              " 'delhi': 6670,\n",
              " '18': 1701,\n",
              " 'bovines': 5207,\n",
              " '3': 1887,\n",
              " 'smugglersåênabbed': 17247,\n",
              " 'http://t.co/e7fn5g5ruu': 9969,\n",
              " 'fredericksburg': 8125,\n",
              " 'virginia': 18912,\n",
              " '@wwp': 3896,\n",
              " 'serving': 16886,\n",
              " 'more': 14290,\n",
              " '75k': 2135,\n",
              " 'veterans': 18858,\n",
              " '52k': 2041,\n",
              " 'oif': 14841,\n",
              " 'oef': 14800,\n",
              " 'vets': 18859,\n",
              " 'physical': 15344,\n",
              " ';': 2241,\n",
              " 'many': 13825,\n",
              " 'invisible': 12747,\n",
              " 'ones': 14890,\n",
              " 'http://t.co/shhlv4dplz': 11390,\n",
              " '#client': 272,\n",
              " 'dust': 7175,\n",
              " '20storm': 1817,\n",
              " 'learned': 13366,\n",
              " 'about': 3976,\n",
              " 'economics': 7241,\n",
              " 'south': 17374,\n",
              " 'dakota': 6505,\n",
              " 'storm': 17623,\n",
              " 'did': 6833,\n",
              " 'years': 19477,\n",
              " 'college': 6040,\n",
              " 'hubert': 12358,\n",
              " 'humphrey': 12384,\n",
              " 'wrecked': 19391,\n",
              " 'cramer': 6341,\n",
              " \"iger's\": 12478,\n",
              " 'words': 19340,\n",
              " \"disney's\": 6922,\n",
              " 'stock': 17603,\n",
              " 'http://t.co/sf5jdnvdw9': 11385,\n",
              " '#til_now': 1280,\n",
              " '#cnbc': 274,\n",
              " 'tring': 18472,\n",
              " '@marc_holl': 3234,\n",
              " '@nennicook': 3358,\n",
              " '@aitchkaycee': 2330,\n",
              " '@vixstuart': 3847,\n",
              " '@benjbeckwith': 2457,\n",
              " 'pretty': 15656,\n",
              " '#disaster': 346,\n",
              " '#gbbo': 498,\n",
              " '#mudslide': 811,\n",
              " 'obliteration': 14773,\n",
              " 'canada': 5530,\n",
              " 'need': 14515,\n",
              " 'arcade': 4451,\n",
              " 'shooter': 17006,\n",
              " 'fix': 7928,\n",
              " 'cte': 6439,\n",
              " 'empty': 7374,\n",
              " 'only': 14897,\n",
              " 'running': 16547,\n",
              " \"i'd\": 12431,\n",
              " 'even': 7541,\n",
              " 'buy': 5438,\n",
              " 'cod': 6009,\n",
              " 'title': 18271,\n",
              " 'they': 18156,\n",
              " \"weren't\": 19146,\n",
              " 'overpriced': 15036,\n",
              " 'steam': 17570,\n",
              " 'bioterrorism': 5030,\n",
              " 'firepower': 7910,\n",
              " 'lab': 13241,\n",
              " '[': 3933,\n",
              " 'electronic': 7308,\n",
              " 'resource': 16262,\n",
              " ']': 3937,\n",
              " 'automation': 4644,\n",
              " 'against': 4126,\n",
              " 'infectious': 12619,\n",
              " 'diseases': 6911,\n",
              " 'http://t.co/kvpbybglsr': 10650,\n",
              " '@graysondolan': 2890,\n",
              " 'u': 18603,\n",
              " 'me': 13947,\n",
              " 'explode': 7629,\n",
              " 'washington': 19046,\n",
              " 'd': 6495,\n",
              " 'c': 5448,\n",
              " 'kendall': 13068,\n",
              " 'jenner': 12903,\n",
              " 'nick': 14577,\n",
              " 'jonas': 12956,\n",
              " 'dating': 6560,\n",
              " 'quite': 15896,\n",
              " 'literally': 13518,\n",
              " 'http://t.co/pfvzvpxqgr': 11104,\n",
              " 'always': 4269,\n",
              " 'tell': 18045,\n",
              " 'mom': 14242,\n",
              " 'bring': 5288,\n",
              " 'hold': 8976,\n",
              " 'cat': 5639,\n",
              " 'heat': 8823,\n",
              " '20wave': 1820,\n",
              " 'fort': 8076,\n",
              " 'worth': 19369,\n",
              " 'rt': 16518,\n",
              " '@startelegram': 3656,\n",
              " 'homeless': 8999,\n",
              " 'vulnerable': 18962,\n",
              " 'north': 14654,\n",
              " 'wave': 19070,\n",
              " 'http://t.co/k9airfq3ql': 10575,\n",
              " 'http://t.co/jdbtlymehy': 10494,\n",
              " 'nuclear': 14709,\n",
              " '20reactor': 1812,\n",
              " 'co': 5984,\n",
              " '#solar': 1174,\n",
              " 'power': 15577,\n",
              " '#japanese': 662,\n",
              " '#fukushima': 480,\n",
              " 'reactor': 16019,\n",
              " 'energy': 7406,\n",
              " 'japan': 12872,\n",
              " 'temperature': 18055,\n",
              " 'fuel': 8195,\n",
              " 'pool': 15515,\n",
              " 'http://t.co/ys3nmwwyvc': 11970,\n",
              " 'http://t.co/alpotnb7q3': 9612,\n",
              " 'arvada': 4516,\n",
              " 'least': 13369,\n",
              " 'taken': 17951,\n",
              " 'local': 13574,\n",
              " 'http://t.co/wlmsq3mtho': 11773,\n",
              " 'trauma': 18423,\n",
              " 'nashville': 14466,\n",
              " 'tn': 18283,\n",
              " 'esteemed': 7510,\n",
              " 'journalist': 12967,\n",
              " 'recalls': 16058,\n",
              " 'tragic': 18396,\n",
              " 'effects': 7275,\n",
              " 'unaddressed': 18633,\n",
              " '#childhood': 260,\n",
              " '#trauma': 1302,\n",
              " '@keithboykin': 3112,\n",
              " '@randallpinkston': 3489,\n",
              " '@pozarmy': 3456,\n",
              " 'http://t.co/gxq1auzb18': 10256,\n",
              " 'panicking': 15115,\n",
              " 'feel': 7797,\n",
              " 'results': 16291,\n",
              " 'back': 4704,\n",
              " 'alarmingly': 4195,\n",
              " 'calm': 5495,\n",
              " 'lightning': 13469,\n",
              " 'thunder': 18220,\n",
              " 'possible': 15546,\n",
              " 'pinpoint': 15379,\n",
              " 'foothill': 8040,\n",
              " 'forecast': 8048,\n",
              " 'http://t.co/ctijdpxabk': 9834,\n",
              " 'displaced': 6932,\n",
              " '40': 1966,\n",
              " 'ocean': 14790,\n",
              " 'township': 18374,\n",
              " 'apartment': 4393,\n",
              " '#newyork': 852,\n",
              " 'http://t.co/uelz59wvom': 11588,\n",
              " 'massacre': 13883,\n",
              " 'stay': 17561,\n",
              " 'tuned': 18540,\n",
              " ';)': 2242,\n",
              " '@freddiedeboer': 2841,\n",
              " '@thucydiplease': 3759,\n",
              " 'rise': 16387,\n",
              " 'coates': 5999,\n",
              " 'charleston': 5758,\n",
              " 'walter': 19002,\n",
              " 'scott': 16737,\n",
              " 'black': 5054,\n",
              " 'twitter': 18578,\n",
              " 'broadly': 5305,\n",
              " 'well': 19135,\n",
              " 'deaths': 6602,\n",
              " 'gallifrey': 8258,\n",
              " '@mathew_is_angry': 3249,\n",
              " '@z3ke_sk1': 3923,\n",
              " '@saladinahmed': 3563,\n",
              " 'died': 6839,\n",
              " 'horrible': 9049,\n",
              " 'trapped': 18420,\n",
              " 'ships': 16988,\n",
              " 'risk': 16390,\n",
              " '20buildings': 1798,\n",
              " 'whiterun': 19196,\n",
              " 'skyrim': 17169,\n",
              " 'destruction': 6780,\n",
              " \"magic's\": 13752,\n",
              " 'fine': 7884,\n",
              " 'just': 13005,\n",
              " 'windstorm': 19250,\n",
              " 'palm': 15095,\n",
              " 'county': 6305,\n",
              " 'fl': 7934,\n",
              " 'reality': 16034,\n",
              " 'training': 18402,\n",
              " 'falls': 7712,\n",
              " 'off': 14805,\n",
              " 'elevated': 7316,\n",
              " 'tracks': 18386,\n",
              " 'http://t.co/jiomnrcygt': 10508,\n",
              " '#paramedic': 950,\n",
              " '#ems': 397,\n",
              " 'rescuers': 16244,\n",
              " '#world': 1434,\n",
              " 'fears': 7784,\n",
              " 'missing': 14185,\n",
              " 'migrants': 14102,\n",
              " 'med': 13964,\n",
              " 'search': 16770,\n",
              " 'survivors': 17848,\n",
              " 'boat': 5135,\n",
              " 'carrying': 5611,\n",
              " 'http://t.co/6ds67xai5e': 9388,\n",
              " 'derailed': 6735,\n",
              " 'toronto': 18339,\n",
              " 'derailed_benchmark': 6736,\n",
              " 'cool': 6235,\n",
              " 'paths': 15184,\n",
              " 'wonder': 19321,\n",
              " 'can': 5526,\n",
              " 'find': 7881,\n",
              " 'leaks': 13364,\n",
              " 'jobs': 12939,\n",
              " 'given': 8382,\n",
              " 'resque': 16276,\n",
              " 'too': 18320,\n",
              " 'ladies': 13250,\n",
              " 'tote': 18353,\n",
              " 'handbag': 8693,\n",
              " 'women': 19314,\n",
              " 'faux': 7763,\n",
              " 'leather': 13370,\n",
              " 'fashion': 7746,\n",
              " 'purse': 15841,\n",
              " 'http://t.co/y87gi3brlv': 11914,\n",
              " 'http://t.co/1zbhvdcxzs': 9196,\n",
              " '@raishimi33': 3488,\n",
              " ':)': 2232,\n",
              " 'sounds': 17368,\n",
              " 'plan': 15418,\n",
              " 'little': 13522,\n",
              " 'applaud': 4416,\n",
              " 'catastrophic': 5645,\n",
              " 'buxton': 5437,\n",
              " 'venice': 18837,\n",
              " 'nottingham': 14686,\n",
              " 'invading': 12736,\n",
              " 'iraq': 12768,\n",
              " 'mistake': 14191,\n",
              " 'diplomacy': 6868,\n",
              " 'needs': 14519,\n",
              " 'replace': 16216,\n",
              " 'constant': 6193,\n",
              " 'threat': 18193,\n",
              " 'war': 19016,\n",
              " 'israel': 12805,\n",
              " 'http://t.co/yqjpn3quux': 11965,\n",
              " 'related': 16154,\n",
              " 'isis': 12786,\n",
              " 'threatens': 18195,\n",
              " 'europe': 7528,\n",
              " 'http://t.co/wk6b5z803o': 11770,\n",
              " 'livingston': 13542,\n",
              " 'mt': 14365,\n",
              " '@marynmck': 3247,\n",
              " \"that's\": 18127,\n",
              " 'beyond': 4979,\n",
              " 'adorable': 4074,\n",
              " 'hope': 9035,\n",
              " \"won't\": 19320,\n",
              " 'been': 4892,\n",
              " 'noticed': 14676,\n",
              " 'devastation': 6797,\n",
              " 'mount': 14332,\n",
              " 'vernon': 18847,\n",
              " 'coming': 6076,\n",
              " '@target': 3701,\n",
              " '@starbucks': 3655,\n",
              " 'closed': 5955,\n",
              " '#momneedscoffee': 795,\n",
              " '#asap': 113,\n",
              " '#iwontmakeit': 656,\n",
              " 'bombed': 5158,\n",
              " 'screwston': 16759,\n",
              " 'tx': 18586,\n",
              " 'redskins': 16107,\n",
              " 'wr': 19383,\n",
              " 'roberts': 16420,\n",
              " 'belly-bombed': 4933,\n",
              " '@teamstream': 3711,\n",
              " 'http://t.co/gbcvvevdty': 10176,\n",
              " 'hellfire': 8852,\n",
              " '#allah': 69,\n",
              " 'describes': 6748,\n",
              " 'piling': 15370,\n",
              " '#wealth': 1402,\n",
              " ...}"
            ]
          },
          "metadata": {},
          "execution_count": 111
        }
      ]
    },
    {
      "cell_type": "markdown",
      "source": [
        "ТвитТокенайзер скорее всего уделяет больше внимания словам со знакам препинания( в нашем случае, @, #), поэтому теперь они содержатся в словаре"
      ],
      "metadata": {
        "id": "DQNCAI5WmYln"
      }
    },
    {
      "cell_type": "markdown",
      "metadata": {
        "id": "I92lmRmjrJu3"
      },
      "source": [
        "## Задание 7 (2 балла)\n",
        "\n",
        "В scikit-learn мы можем оценивать процесс подсчета матрицы через CountVectorizer. У CountVectorizer, как и у других наследников \\_VectorizerMixin, есть аргумент tokenizer и preprocessor. preprocessor применится в самом начале к каждой строке вашего датасета, tokenizer же должен принять строку и вернуть токены.\n",
        "Давайте напишем кастомный токенайзер, которые сделает все, что нам нужно:\n",
        "\n",
        "0. Приведет все буквы к нижнему регистру\n",
        "1. Разобьет текст на токены с помощью TweetTokenizer из пакета nltk\n",
        "2. Удалит все токены содержащие не латинские буквы, кроме смайликов (будем считать ими токены содержащие только пунктуацию и, как минимум, одну скобочку) и хэштегов, которые после начальной # содержат только латинские буквы.\n",
        "3. Удалит все токены, которые перечислены в nltk.corpus.stopwords.words('english')\n",
        "4. Проведет стемминг с помощью SnowballStemmer\n",
        "\n",
        "Продемонстрируйте работу вашей функции на первых десяти текстах в обучающей выборке."
      ]
    },
    {
      "cell_type": "code",
      "source": [
        "import nltk\n",
        "nltk.download('stopwords')"
      ],
      "metadata": {
        "colab": {
          "base_uri": "https://localhost:8080/"
        },
        "id": "xx9fvOTYeoGQ",
        "outputId": "294c0091-829f-4f6d-8d47-4407e8d32168"
      },
      "execution_count": null,
      "outputs": [
        {
          "output_type": "stream",
          "name": "stderr",
          "text": [
            "[nltk_data] Downloading package stopwords to /root/nltk_data...\n",
            "[nltk_data]   Package stopwords is already up-to-date!\n"
          ]
        },
        {
          "output_type": "execute_result",
          "data": {
            "text/plain": [
              "True"
            ]
          },
          "metadata": {},
          "execution_count": 112
        }
      ]
    },
    {
      "cell_type": "code",
      "source": [
        "from nltk.tokenize import TweetTokenizer\n",
        "from string import punctuation\n",
        "from nltk.corpus import stopwords\n",
        "from nltk.stem.snowball import SnowballStemmer\n",
        "\n",
        "\n",
        "def custom_tokenizer(tweet_text):\n",
        "\n",
        "    tokenized_words = []\n",
        "\n",
        "    tw = TweetTokenizer()\n",
        "    stemmer = SnowballStemmer('english')\n",
        "\n",
        "    tweet_text = tweet_text.lower()\n",
        "    tweet_text = tw.tokenize(tweet_text)\n",
        "\n",
        "    for word in tweet_text:\n",
        "      if re.fullmatch(r'[a-z]+|^#[a-z]+$|' + f'[{punctuation}]+' + '[()]+', word) and (word not in stopwords.words('english')):\n",
        "        tokenized_words.append(word)\n",
        "      stemmed = [stemmer.stem(w) for w in tokenized_words]\n",
        "    return stemmed\n"
      ],
      "metadata": {
        "id": "aPqSTbWzm1f0"
      },
      "execution_count": null,
      "outputs": []
    },
    {
      "cell_type": "code",
      "source": [
        "print(custom_tokenizer(train.head(10).to_string()))\n"
      ],
      "metadata": {
        "colab": {
          "base_uri": "https://localhost:8080/"
        },
        "id": "_iFePb-xevjU",
        "outputId": "4602403f-7a9c-40ed-c80f-c8f0fb0b361e"
      },
      "execution_count": null,
      "outputs": [
        {
          "output_type": "stream",
          "name": "stdout",
          "text": [
            "['bridg', 'ash', 'australia', 'hail', 'carol', 'stream', 'illinoi', 'great', 'michigan', 'tec', 'polic', 'houston', 'cnn', 'tennesse', 'movi', 'theater', 'riot', 'still', 'riot', 'coupl', 'hour', 'l', 'wound', 'lake', 'highland', 'crack', 'path', 'airplan', 'somewher', 'expert', 'bloodi', 'isol', 'citi', 'world', 'perth', 'came', 'burn', 'except', 'idk', 'destroy', 'ask', 'destroy', 'hous', 'wound', 'maracay', 'nirgua', 'venezuela', 'polic']\n"
          ]
        }
      ]
    },
    {
      "cell_type": "markdown",
      "metadata": {
        "id": "meYDQeoWrJu3"
      },
      "source": [
        "## Задание 8 (1 балл)\n",
        "\n",
        "1. Примените CountVectorizer с реализованным выше токенизатором к обучающим и тестовым выборкам.\n",
        "2. Обучите LogisticRegression на полученных признаках.\n",
        "3. Посчитайте метрику f1-score на тестовых данных."
      ]
    },
    {
      "cell_type": "code",
      "source": [
        "cnt_vec = CountVectorizer(tokenizer = custom_tokenizer)\n",
        "X_train = cnt_vec.fit_transform(train)\n",
        "X_train.toarray()"
      ],
      "metadata": {
        "colab": {
          "base_uri": "https://localhost:8080/"
        },
        "id": "k_21GfLBgPwt",
        "outputId": "deca0ee0-8ffc-4615-fcc2-fc731cd9e0f7"
      },
      "execution_count": null,
      "outputs": [
        {
          "output_type": "execute_result",
          "data": {
            "text/plain": [
              "array([[0, 0, 0, ..., 0, 0, 0],\n",
              "       [0, 0, 0, ..., 0, 0, 0],\n",
              "       [0, 0, 0, ..., 0, 0, 0],\n",
              "       ...,\n",
              "       [0, 0, 0, ..., 0, 0, 0],\n",
              "       [0, 0, 0, ..., 0, 0, 0],\n",
              "       [0, 0, 0, ..., 0, 0, 0]])"
            ]
          },
          "metadata": {},
          "execution_count": 115
        }
      ]
    },
    {
      "cell_type": "code",
      "source": [
        "X_test = cnt_vec.transform(test)\n",
        "X_test.toarray()"
      ],
      "metadata": {
        "colab": {
          "base_uri": "https://localhost:8080/"
        },
        "id": "2exfNdz6gbNE",
        "outputId": "cd61787b-dd25-40cd-bca8-de807f333f8e"
      },
      "execution_count": null,
      "outputs": [
        {
          "output_type": "execute_result",
          "data": {
            "text/plain": [
              "array([[0, 0, 0, ..., 0, 0, 0],\n",
              "       [0, 0, 0, ..., 0, 0, 0],\n",
              "       [0, 0, 0, ..., 0, 0, 0],\n",
              "       ...,\n",
              "       [0, 0, 0, ..., 0, 0, 0],\n",
              "       [0, 0, 0, ..., 0, 0, 0],\n",
              "       [0, 0, 0, ..., 0, 0, 0]])"
            ]
          },
          "metadata": {},
          "execution_count": 116
        }
      ]
    },
    {
      "cell_type": "code",
      "source": [
        "from sklearn.metrics import classification_report, roc_auc_score\n",
        "from sklearn.linear_model import LogisticRegression\n",
        "\n",
        "clf = LogisticRegression(max_iter=300, random_state=42)\n",
        "clf.fit(X_train, y_train)\n",
        "pred_y = clf.predict(X_test)\n",
        "print(classification_report(y_test, pred_y))"
      ],
      "metadata": {
        "colab": {
          "base_uri": "https://localhost:8080/"
        },
        "id": "rfalkAL0h6gb",
        "outputId": "de418f03-5ba9-414d-dff5-949526a339a6"
      },
      "execution_count": null,
      "outputs": [
        {
          "output_type": "stream",
          "name": "stdout",
          "text": [
            "              precision    recall  f1-score   support\n",
            "\n",
            "           0       0.81      0.85      0.83      1318\n",
            "           1       0.78      0.72      0.75       966\n",
            "\n",
            "    accuracy                           0.80      2284\n",
            "   macro avg       0.80      0.79      0.79      2284\n",
            "weighted avg       0.80      0.80      0.80      2284\n",
            "\n"
          ]
        }
      ]
    },
    {
      "cell_type": "markdown",
      "source": [
        "f1 мера: для положительного класса 0.75, для отрицательного 0.83"
      ],
      "metadata": {
        "id": "xsIX0WqJpGqz"
      }
    },
    {
      "cell_type": "markdown",
      "metadata": {
        "id": "SqvFUejcrJu4"
      },
      "source": [
        "## Задание 9 (1 балл)\n",
        "\n",
        "1. Повторите 7 задание, но с tf-idf векторизатором. Как изменилось качество?\n",
        "2. Мы можем еще сильнее уменьшить размер нашей матрицы, если отбросим значения df близкие к единице. Скорее всего такие слова не несут много информации о категории, так как встречаются достаточно часто. Ограничьте максимальный df в параметрах TfIdfVectorizer, поставьте верхнюю границу равную 0.9. Как изменился размер матрицы, как изменилось качество?\n",
        "3. Также мы можем уменьшить размер матрицы, удаляя слова со слишком маленьким df. Удалось ли добиться улучшения качества?"
      ]
    },
    {
      "cell_type": "code",
      "source": [
        "from sklearn.preprocessing import MaxAbsScaler\n",
        "from sklearn.feature_extraction.text import TfidfVectorizer\n",
        "\n",
        "vec = TfidfVectorizer(tokenizer = custom_tokenizer)\n",
        "vec_train = vec.fit_transform(train)\n",
        "vec_test = vec.transform(test)\n",
        "\n",
        "\n",
        "scaler = MaxAbsScaler()\n",
        "vec_train = scaler.fit_transform(vec_train)\n",
        "vec_test = scaler.transform(vec_test)\n",
        "\n",
        "vec_train.shape"
      ],
      "metadata": {
        "colab": {
          "base_uri": "https://localhost:8080/"
        },
        "id": "QqcXSTAepOaz",
        "outputId": "eeb63bee-b63f-42e2-e71e-1541df4f2541"
      },
      "execution_count": null,
      "outputs": [
        {
          "output_type": "stream",
          "name": "stderr",
          "text": [
            "/usr/local/lib/python3.10/dist-packages/sklearn/feature_extraction/text.py:528: UserWarning: The parameter 'token_pattern' will not be used since 'tokenizer' is not None'\n",
            "  warnings.warn(\n"
          ]
        },
        {
          "output_type": "execute_result",
          "data": {
            "text/plain": [
              "(5329, 10477)"
            ]
          },
          "metadata": {},
          "execution_count": 118
        }
      ]
    },
    {
      "cell_type": "code",
      "source": [
        "clf = LogisticRegression(max_iter=100, random_state=42)\n",
        "clf.fit(vec_train, y_train)\n",
        "pred = clf.predict(vec_test)\n",
        "print(classification_report(y_test, pred))"
      ],
      "metadata": {
        "colab": {
          "base_uri": "https://localhost:8080/"
        },
        "id": "UyN7sJKvpmYy",
        "outputId": "4d7d6f2d-4073-4170-dd2b-9616b46a9463"
      },
      "execution_count": null,
      "outputs": [
        {
          "output_type": "stream",
          "name": "stdout",
          "text": [
            "              precision    recall  f1-score   support\n",
            "\n",
            "           0       0.80      0.86      0.83      1318\n",
            "           1       0.79      0.71      0.75       966\n",
            "\n",
            "    accuracy                           0.80      2284\n",
            "   macro avg       0.79      0.78      0.79      2284\n",
            "weighted avg       0.79      0.80      0.79      2284\n",
            "\n"
          ]
        }
      ]
    },
    {
      "cell_type": "markdown",
      "source": [
        "Не изменилось("
      ],
      "metadata": {
        "id": "ernxxJwIra8d"
      }
    },
    {
      "cell_type": "code",
      "source": [
        "vec = TfidfVectorizer(max_df = 0.9, tokenizer = custom_tokenizer)\n",
        "vec_train = vec.fit_transform(train)\n",
        "vec_test = vec.transform(test)\n",
        "\n",
        "\n",
        "scaler = MaxAbsScaler()\n",
        "vec_train = scaler.fit_transform(vec_train)\n",
        "vec_test = scaler.transform(vec_test)\n",
        "\n",
        "vec_train.shape"
      ],
      "metadata": {
        "colab": {
          "base_uri": "https://localhost:8080/"
        },
        "id": "ntOinkGUrvq7",
        "outputId": "d7d18277-deef-4a8e-a7c1-8d41e864df7d"
      },
      "execution_count": null,
      "outputs": [
        {
          "output_type": "stream",
          "name": "stderr",
          "text": [
            "/usr/local/lib/python3.10/dist-packages/sklearn/feature_extraction/text.py:528: UserWarning: The parameter 'token_pattern' will not be used since 'tokenizer' is not None'\n",
            "  warnings.warn(\n"
          ]
        },
        {
          "output_type": "execute_result",
          "data": {
            "text/plain": [
              "(5329, 10477)"
            ]
          },
          "metadata": {},
          "execution_count": 120
        }
      ]
    },
    {
      "cell_type": "code",
      "source": [
        "clf = LogisticRegression(max_iter=300, random_state=42)\n",
        "clf.fit(vec_train, y_train)\n",
        "pred = clf.predict(vec_test)\n",
        "print(classification_report(y_test, pred))"
      ],
      "metadata": {
        "colab": {
          "base_uri": "https://localhost:8080/"
        },
        "id": "rKtFYnGRs4B4",
        "outputId": "fe582eb1-9f9e-40a6-cc36-9cb326155fa4"
      },
      "execution_count": null,
      "outputs": [
        {
          "output_type": "stream",
          "name": "stdout",
          "text": [
            "              precision    recall  f1-score   support\n",
            "\n",
            "           0       0.80      0.86      0.83      1318\n",
            "           1       0.79      0.71      0.75       966\n",
            "\n",
            "    accuracy                           0.80      2284\n",
            "   macro avg       0.79      0.78      0.79      2284\n",
            "weighted avg       0.79      0.80      0.79      2284\n",
            "\n"
          ]
        }
      ]
    },
    {
      "cell_type": "markdown",
      "source": [
        "2. Не изменилось :("
      ],
      "metadata": {
        "id": "XKnRVH5at7cI"
      }
    },
    {
      "cell_type": "code",
      "source": [
        "vec = TfidfVectorizer(max_df=0.7, min_df=0.001, tokenizer=custom_tokenizer)\n",
        "vec_train = vec.fit_transform(train)\n",
        "vec_test = vec.transform(test)\n",
        "\n",
        "\n",
        "scaler = MaxAbsScaler()\n",
        "vec_train = scaler.fit_transform(vec_train)\n",
        "vec_test = scaler.transform(vec_test)\n",
        "\n",
        "vec_train.shape"
      ],
      "metadata": {
        "colab": {
          "base_uri": "https://localhost:8080/"
        },
        "id": "iE2x8HR2uF_U",
        "outputId": "f3dacc5f-efc0-462f-903e-389c8b4fc128"
      },
      "execution_count": null,
      "outputs": [
        {
          "output_type": "stream",
          "name": "stderr",
          "text": [
            "/usr/local/lib/python3.10/dist-packages/sklearn/feature_extraction/text.py:528: UserWarning: The parameter 'token_pattern' will not be used since 'tokenizer' is not None'\n",
            "  warnings.warn(\n"
          ]
        },
        {
          "output_type": "execute_result",
          "data": {
            "text/plain": [
              "(5329, 1737)"
            ]
          },
          "metadata": {},
          "execution_count": 127
        }
      ]
    },
    {
      "cell_type": "code",
      "source": [
        "clf = LogisticRegression(max_iter=300, random_state=42)\n",
        "clf.fit(vec_train, y_train)\n",
        "pred = clf.predict(vec_test)\n",
        "print(classification_report(y_test, pred))"
      ],
      "metadata": {
        "colab": {
          "base_uri": "https://localhost:8080/"
        },
        "id": "YSajZFZ4uTjO",
        "outputId": "2b9a9c09-ca05-4e4b-a961-0785ff766d69"
      },
      "execution_count": null,
      "outputs": [
        {
          "output_type": "stream",
          "name": "stdout",
          "text": [
            "              precision    recall  f1-score   support\n",
            "\n",
            "           0       0.80      0.86      0.83      1318\n",
            "           1       0.78      0.71      0.75       966\n",
            "\n",
            "    accuracy                           0.79      2284\n",
            "   macro avg       0.79      0.78      0.79      2284\n",
            "weighted avg       0.79      0.79      0.79      2284\n",
            "\n"
          ]
        }
      ]
    },
    {
      "cell_type": "markdown",
      "metadata": {
        "id": "GtPy36SZrJu4"
      },
      "source": [
        "## Задание 10 (1 балл)\n",
        "\n",
        "Еще один популяпный трюк, который позволит уменьшить количество признаков называется hashing trick. Его суть в том, то мы случайно группируем признаки ииии  ..... складываем их! А потом удаляем исходные признаки. В итоге все наши признаки это просто суммы исходных. Звучит странно, но это отлично работает. Давайте проверим этот трюк в нашем сеттинге.\n",
        "Также при таком подходе вам не нужно хранить словарь token->index, что тоже иногда полезно.\n",
        "\n",
        "1. Повторите задание 7 с HashingVectorizer, укажите количество фичей равное 5000.\n",
        "2. Какой из подходов показал самый высокий результат?"
      ]
    },
    {
      "cell_type": "code",
      "source": [
        "from sklearn.feature_extraction.text import HashingVectorizer\n",
        "\n",
        "vec = HashingVectorizer(tokenizer=custom_tokenizer, n_features=5000)\n",
        "vec_train = vec.fit_transform(train)\n",
        "vec_test = vec.transform(test)\n",
        "\n",
        "\n",
        "scaler = MaxAbsScaler()\n",
        "vec_train = scaler.fit_transform(vec_train)\n",
        "vec_test = scaler.transform(vec_test)\n",
        "\n",
        "vec_train.shape"
      ],
      "metadata": {
        "colab": {
          "base_uri": "https://localhost:8080/"
        },
        "id": "SKofi_wXKd0y",
        "outputId": "8decab00-6ebe-42d9-8c71-b68f520891ed"
      },
      "execution_count": null,
      "outputs": [
        {
          "output_type": "stream",
          "name": "stderr",
          "text": [
            "/usr/local/lib/python3.10/dist-packages/sklearn/feature_extraction/text.py:528: UserWarning: The parameter 'token_pattern' will not be used since 'tokenizer' is not None'\n",
            "  warnings.warn(\n"
          ]
        },
        {
          "output_type": "execute_result",
          "data": {
            "text/plain": [
              "(5329, 5000)"
            ]
          },
          "metadata": {},
          "execution_count": 138
        }
      ]
    },
    {
      "cell_type": "code",
      "source": [
        "clf = LogisticRegression(max_iter=300, random_state=42)\n",
        "clf.fit(vec_train, y_train)\n",
        "pred = clf.predict(vec_test)\n",
        "print(classification_report(y_test, pred))"
      ],
      "metadata": {
        "colab": {
          "base_uri": "https://localhost:8080/"
        },
        "id": "Xj9fjDhuKoOu",
        "outputId": "1754cc4d-9dbd-4d2a-e318-bbee0ab88d4f"
      },
      "execution_count": null,
      "outputs": [
        {
          "output_type": "stream",
          "name": "stdout",
          "text": [
            "              precision    recall  f1-score   support\n",
            "\n",
            "           0       0.80      0.84      0.82      1318\n",
            "           1       0.77      0.70      0.73       966\n",
            "\n",
            "    accuracy                           0.78      2284\n",
            "   macro avg       0.78      0.77      0.78      2284\n",
            "weighted avg       0.78      0.78      0.78      2284\n",
            "\n"
          ]
        }
      ]
    },
    {
      "cell_type": "markdown",
      "metadata": {
        "id": "XcrY1aZ2rJu5"
      },
      "source": [
        "## Задание 11 (1 балл)\n",
        "\n",
        "В этом задании нужно добиться f1 меры хотя в 0.75 на тестовых данных."
      ]
    }
  ],
  "metadata": {
    "colab": {
      "provenance": []
    },
    "kernelspec": {
      "display_name": "Python 3 (ipykernel)",
      "language": "python",
      "name": "python3"
    },
    "language_info": {
      "codemirror_mode": {
        "name": "ipython",
        "version": 3
      },
      "file_extension": ".py",
      "mimetype": "text/x-python",
      "name": "python",
      "nbconvert_exporter": "python",
      "pygments_lexer": "ipython3",
      "version": "3.8.5"
    }
  },
  "nbformat": 4,
  "nbformat_minor": 0
}